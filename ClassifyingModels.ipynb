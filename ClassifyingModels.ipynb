{
  "nbformat": 4,
  "nbformat_minor": 5,
  "metadata": {
    "kernelspec": {
      "display_name": "Python 3",
      "language": "python",
      "name": "python3"
    },
    "language_info": {
      "codemirror_mode": {
        "name": "ipython",
        "version": 3
      },
      "file_extension": ".py",
      "mimetype": "text/x-python",
      "name": "python",
      "nbconvert_exporter": "python",
      "pygments_lexer": "ipython3",
      "version": "3.7.10"
    },
    "colab": {
      "name": "SocialDynamic2.ipynb",
      "provenance": [],
      "collapsed_sections": [
        "W_xfT5zy3NGK",
        "YcCOSMG23ig9",
        "ekVT2pGT0hk8",
        "26f6e8e9",
        "2830ee3d",
        "f63ea035",
        "yR6qhxDLvvci",
        "45frvs9oGB50",
        "a600f86b",
        "b5b63ad7"
      ]
    }
  },
  "cells": [
    {
      "cell_type": "code",
      "metadata": {
        "id": "j_d-7Bhr8CB8"
      },
      "source": [
        "# pip install wordcloud\n",
        "# pip install textblob\n",
        "!pip install emoji\n",
        "!pip install fasttext"
      ],
      "id": "j_d-7Bhr8CB8",
      "execution_count": null,
      "outputs": []
    },
    {
      "cell_type": "code",
      "metadata": {
        "id": "fUaM1BjK8Q_w"
      },
      "source": [
        "from google.colab import drive\n",
        "drive.mount('/content/drive')\n",
        "path=\"For the files folder\""
      ],
      "id": "fUaM1BjK8Q_w",
      "execution_count": null,
      "outputs": []
    },
    {
      "cell_type": "code",
      "metadata": {
        "id": "768c5a1a"
      },
      "source": [
        "# Python Libs\n",
        "import re\n",
        "import csv\n",
        "import os\n",
        "import datetime\n",
        "import emoji\n",
        "import pandas as pd\n",
        "import numpy as np\n",
        "import time\n",
        "\n",
        "import tensorflow as tf\n",
        "from sklearn.feature_extraction.text import CountVectorizer, TfidfVectorizer\n",
        "from sklearn.metrics import accuracy_score, confusion_matrix, precision_recall_curve, plot_precision_recall_curve, average_precision_score, classification_report, auc\n",
        "from tensorflow.keras.preprocessing.text import Tokenizer\n",
        "from tensorflow.keras.preprocessing.sequence import pad_sequences\n",
        "from tensorflow.keras.utils import to_categorical\n",
        "from tensorflow.keras.models import Model\n",
        "from tensorflow.keras.layers import *\n",
        "from tensorflow.keras.optimizers import Adam\n",
        "from sklearn.model_selection import train_test_split\n",
        "from sklearn import metrics\n",
        "from gensim.models import KeyedVectors\n",
        "from sklearn.svm import LinearSVC\n",
        "from sklearn import linear_model\n",
        "from sklearn.linear_model import LinearRegression, Perceptron\n",
        "from sklearn.naive_bayes import MultinomialNB\n",
        "\n",
        "from keras.callbacks import EarlyStopping, ModelCheckpoint, ReduceLROnPlateau \n",
        "from keras.metrics import MeanSquaredError, MeanAbsoluteError\n",
        "from keras.utils import plot_model\n",
        "\n",
        "# Sentiment & Text analysis libs\n",
        "from wordcloud import WordCloud\n",
        "from textblob import TextBlob\n",
        "\n",
        "# plotting and math libs\n",
        "from tqdm import tqdm\n",
        "import matplotlib.pylab\n",
        "import matplotlib.pyplot as plt\n",
        "import seaborn as sns\n",
        "import numpy as np\n",
        "\n",
        "#Twitter Liba\n",
        "import tweepy\n",
        "from tweepy import OAuthHandler\n",
        "import operator \n",
        "import json\n",
        "from collections import Counter\n",
        "from collections import defaultdict\n",
        "import datetime as datetime\n",
        "import requests\n",
        "\n",
        "import fasttext\n",
        "import fasttext.util\n",
        "\n",
        "import warnings\n",
        "warnings.filterwarnings('ignore')\n",
        "%matplotlib inline"
      ],
      "id": "768c5a1a",
      "execution_count": null,
      "outputs": []
    },
    {
      "cell_type": "markdown",
      "metadata": {
        "id": "7ed291fe"
      },
      "source": [
        "## Classification Models"
      ],
      "id": "7ed291fe"
    },
    {
      "cell_type": "markdown",
      "metadata": {
        "id": "W_xfT5zy3NGK"
      },
      "source": [
        "### **Loading the data**"
      ],
      "id": "W_xfT5zy3NGK"
    },
    {
      "cell_type": "code",
      "metadata": {
        "id": "1ca4d565"
      },
      "source": [
        "embed_size = 300 # how big is each word vector\n",
        "max_features = 80_000 # how many unique words to use (i.e num rows in embedding vector)\n",
        "maxlen = 50 # max number of words in a phrase to use\n",
        "#define a batch size\n",
        "batch_size = 64"
      ],
      "id": "1ca4d565",
      "execution_count": null,
      "outputs": []
    },
    {
      "cell_type": "code",
      "metadata": {
        "id": "uofXwejd3NGN"
      },
      "source": [
        "# loading the data\n",
        "users_tweets_path_r = path + '/Right_Users_Tweets.csv'\n",
        "users_tweets_path_l = path + '/Left_Users_Tweets.csv'\n",
        "df_r = pd.read_csv(users_tweets_path_r)\n",
        "df_l = pd.read_csv(users_tweets_path_l)\n",
        "df = df_r.append(df_l, ignore_index=True)"
      ],
      "id": "uofXwejd3NGN",
      "execution_count": null,
      "outputs": []
    },
    {
      "cell_type": "code",
      "metadata": {
        "colab": {
          "base_uri": "https://localhost:8080/"
        },
        "id": "3c0446c1",
        "outputId": "28d2d6ee-a317-4d4b-91f8-b20e67ff2de9"
      },
      "source": [
        "import string\n",
        " \n",
        "punctuation = list(string.punctuation)\n",
        "punctuation.remove('@')\n",
        "punctuation = ''.join(punctuation)\n",
        "print(punctuation)\n",
        "def remove_punctuations(sentence):\n",
        "    try:\n",
        "        new_s = \"\"\n",
        "        for w in sentence.split(\" \"):\n",
        "            new_s += w.strip(punctuation) + \" \"\n",
        "        return new_s\n",
        "    except:\n",
        "        return sentence"
      ],
      "id": "3c0446c1",
      "execution_count": null,
      "outputs": [
        {
          "output_type": "stream",
          "text": [
            "!\"#$%&'()*+,-./:;<=>?[\\]^_`{|}~\n"
          ],
          "name": "stdout"
        }
      ]
    },
    {
      "cell_type": "code",
      "metadata": {
        "id": "92cc219d"
      },
      "source": [
        "df['text'] = df['text'].apply(remove_punctuations)\n",
        "df['class'] = df['class'].astype(np.int)"
      ],
      "id": "92cc219d",
      "execution_count": null,
      "outputs": []
    },
    {
      "cell_type": "code",
      "metadata": {
        "id": "oPhMe4AfPwzy"
      },
      "source": [
        "# Balancing the records amount\n",
        "to_remove = np.random.choice(df[df['class']==0].index,size=185_096,replace=False)\n",
        "df = df.drop(to_remove)"
      ],
      "id": "oPhMe4AfPwzy",
      "execution_count": null,
      "outputs": []
    },
    {
      "cell_type": "code",
      "metadata": {
        "colab": {
          "base_uri": "https://localhost:8080/",
          "height": 371
        },
        "id": "wNap9LQZ3NGQ",
        "outputId": "5128d95d-df0f-4ac8-d0ce-0514c3f0c6e7"
      },
      "source": [
        "print(df['class'].value_counts())\n",
        "_ = plt.figure(figsize=(5,5))\n",
        "_ = plt.bar(x=['Negative', 'Positive'], height=df['class'].value_counts(), width=0.4)\n",
        "plt.show()"
      ],
      "id": "wNap9LQZ3NGQ",
      "execution_count": null,
      "outputs": [
        {
          "output_type": "stream",
          "text": [
            "1    356003\n",
            "0    356003\n",
            "Name: class, dtype: int64\n"
          ],
          "name": "stdout"
        },
        {
          "output_type": "display_data",
          "data": {
            "image/png": "[encoded data removed]",
            "text/plain": [
              "<Figure size 360x360 with 1 Axes>"
            ]
          },
          "metadata": {
            "tags": [],
            "needs_background": "light"
          }
        }
      ]
    },
    {
      "cell_type": "markdown",
      "metadata": {
        "id": "YcCOSMG23ig9"
      },
      "source": [
        "#### Plotting most frequent terms in the tweets collection\n"
      ],
      "id": "YcCOSMG23ig9"
    },
    {
      "cell_type": "markdown",
      "metadata": {
        "id": "ekVT2pGT0hk8"
      },
      "source": [
        "##### Hebrew Stop Words"
      ],
      "id": "ekVT2pGT0hk8"
    },
    {
      "cell_type": "code",
      "metadata": {
        "id": "Aigrte_8lF1n"
      },
      "source": [
        "hebrew_stopwords = ['אני',\n",
        "'את',\n",
        "'אתה',\n",
        "'אנחנו',\n",
        "'אתן',\n",
        "'אתם',\n",
        "'הם',\n",
        "'הן',\n",
        "'היא',\n",
        "'הוא',\n",
        "'שלי',\n",
        "'שלו',\n",
        "'שלך',\n",
        "'שלה',\n",
        "'שלנו',\n",
        "'שלכם',\n",
        "'שלכן',\n",
        "'שלהם',\n",
        "'שלהן',\n",
        "'לי',\n",
        "'לו',\n",
        "'לה',\n",
        "'לנו',\n",
        "'לכם',\n",
        "'לכן',\n",
        "'להם',\n",
        "'להן',\n",
        "'אותה',\n",
        "'אותו',\n",
        "'זה',\n",
        "'זאת',\n",
        "'אלה',\n",
        "'אלו',\n",
        "'תחת',\n",
        "'מתחת',\n",
        "'מעל',\n",
        "'בין',\n",
        "'עם',\n",
        "'עד',\n",
        "'נגר',\n",
        "'על',\n",
        "'אל',\n",
        "'מול',\n",
        "'של',\n",
        "'אצל',\n",
        "'כמו',\n",
        "'אחר',\n",
        "'אותו',\n",
        "'בלי',\n",
        "'לפני',\n",
        "'אחרי',\n",
        "'מאחורי',\n",
        "'עלי',\n",
        "'עליו',\n",
        "'עליה',\n",
        "'עליך',\n",
        "'עלינו',\n",
        "'עליכם',\n",
        "'לעיכן',\n",
        "'עליהם',\n",
        "'עליהן',\n",
        "'כל',\n",
        "'כולם',\n",
        "'כולן',\n",
        "'כך',\n",
        "'ככה',\n",
        "'כזה',\n",
        "'זה',\n",
        "'זות',\n",
        "'אותי',\n",
        "'אותה',\n",
        "'אותם',\n",
        "'אותך',\n",
        "'אותו',\n",
        "'אותן',\n",
        "'אותנו',\n",
        "'ואת',\n",
        "'את',\n",
        "'אתכם',\n",
        "'אתכן',\n",
        "'איתי',\n",
        "'איתו',\n",
        "'איתך',\n",
        "'איתה',\n",
        "'איתם',\n",
        "'איתן',\n",
        "'איתנו',\n",
        "'איתכם',\n",
        "'איתכן',\n",
        "'יהיה',\n",
        "'תהיה',\n",
        "'היתי',\n",
        "'היתה',\n",
        "'היה',\n",
        "'להיות',\n",
        "'עצמי',\n",
        "'עצמו',\n",
        "'עצמה',\n",
        "'עצמם',\n",
        "'עצמן',\n",
        "'עצמנו',\n",
        "'עצמהם',\n",
        "'עצמהן',\n",
        "'מי',\n",
        "'מה',\n",
        "'איפה',\n",
        "'היכן',\n",
        "'במקום שבו',\n",
        "'אם',\n",
        "'לאן',\n",
        "'למקום שבו',\n",
        "'מקום בו',\n",
        "'איזה',\n",
        "'מהיכן',\n",
        "'איך',\n",
        "'כיצד',\n",
        "'באיזו מידה',\n",
        "'מתי',\n",
        "'בשעה ש',\n",
        "'כאשר',\n",
        "'כש',\n",
        "'למרות',\n",
        "'לפני',\n",
        "'אחרי',\n",
        "'מאיזו סיבה',\n",
        "'הסיבה שבגללה',\n",
        "'למה',\n",
        "'מדוע',\n",
        "'לאיזו תכלית',\n",
        "'כי',\n",
        "'יש',\n",
        "'אין',\n",
        "'אך',\n",
        "'מנין',\n",
        "'מאין',\n",
        "'מאיפה',\n",
        "'יכל',\n",
        "'יכלה',\n",
        "'יכלו',\n",
        "'יכול',\n",
        "'יכולה',\n",
        "'יכולים',\n",
        "'יכולות',\n",
        "'יוכלו',\n",
        "'יוכל',\n",
        "'מסוגל',\n",
        "'לא',\n",
        "'רק',\n",
        "'אולי',\n",
        "'אין',\n",
        "'לאו',\n",
        "'אי',\n",
        "'כלל',\n",
        "'נגד',\n",
        "'אם',\n",
        "'עם',\n",
        "'אל',\n",
        "'אלה',\n",
        "'אלו',\n",
        "'אף',\n",
        "'על',\n",
        "'מעל',\n",
        "'מתחת',\n",
        "'מצד',\n",
        "'בשביל',\n",
        "'לבין',\n",
        "'באמצע',\n",
        "'בתוך',\n",
        "'דרך',\n",
        "'מבעד',\n",
        "'באמצעות',\n",
        "'למעלה',\n",
        "'למטה',\n",
        "'מחוץ',\n",
        "'מן',\n",
        "'לעבר',\n",
        "'מכאן',\n",
        "'כאן',\n",
        "'הנה',\n",
        "'הרי',\n",
        "'פה',\n",
        "'שם',\n",
        "'אך',\n",
        "'ברם',\n",
        "'שוב',\n",
        "'אבל',\n",
        "'מבלי',\n",
        "'בלי',\n",
        "'מלבד',\n",
        "'רק',\n",
        "'בגלל',\n",
        "'מכיוון',\n",
        "'עד',\n",
        "'אשר',\n",
        "'ואילו',\n",
        "'למרות',\n",
        "'אס',\n",
        "'כמו',\n",
        "'כפי',\n",
        "'אז',\n",
        "'אחרי',\n",
        "'כן',\n",
        "'לכן',\n",
        "'לפיכך',\n",
        "'מאד',\n",
        "'עז',\n",
        "'מעט',\n",
        "'מעטים',\n",
        "'במידה',\n",
        "'שוב',\n",
        "'יותר',\n",
        "'מדי',\n",
        "'גם',\n",
        "'כן',\n",
        "'נו',\n",
        "'אחר',\n",
        "'אחרת',\n",
        "'אחרים',\n",
        "'אחרות',\n",
        "'אשר',\n",
        "'או', 'rt']"
      ],
      "id": "Aigrte_8lF1n",
      "execution_count": null,
      "outputs": []
    },
    {
      "cell_type": "markdown",
      "metadata": {
        "id": "rpvXyhBN06D2"
      },
      "source": [
        "##### Dividing and Arranging the data according to the user's political stance"
      ],
      "id": "rpvXyhBN06D2"
    },
    {
      "cell_type": "code",
      "metadata": {
        "colab": {
          "base_uri": "https://localhost:8080/"
        },
        "id": "dm47MOsVg07g",
        "outputId": "6976fa21-7202-459b-e1b3-e03907a0a6cb"
      },
      "source": [
        "# Dividing the data according to the user's political stance\n",
        "word_tweets_dict = dict()\n",
        "word_counter = 0\n",
        "for tweet in df['text'].values:\n",
        "  try:\n",
        "    for word in tweet.split(' '):\n",
        "      if not word in word_tweets_dict.keys() and word not in hebrew_stopwords:\n",
        "        word_tweets_dict[word] = word_counter\n",
        "        word_counter += 1\n",
        "  except:\n",
        "    continue\n",
        "\n",
        "# Count the terms \n",
        "count_vectorizer = CountVectorizer(vocabulary=word_tweets_dict, min_df=1)\n",
        "terms_arr = count_vectorizer.transform((df['text'].values).astype('U'))\n",
        "\n",
        "positive_indexes = df.index[df['class'] == 1].tolist()\n",
        "negative_indexes = df.index[df['class'] == 0].tolist()\n",
        "\n",
        "terms_arr_pos = terms_arr[positive_indexes]\n",
        "terms_arr_neg = terms_arr[negative_indexes]\n",
        "\n",
        "print(\"All terms that belongs to left wing: \" , terms_arr_pos.shape)\n",
        "print(\"All terms that belongs to right wing: \", terms_arr_neg.shape)\n",
        "\n",
        "tf_pos_terms = np.array(terms_arr_pos.sum(axis=0))[0]\n",
        "tf_neg_terms = np.array(terms_arr_neg.sum(axis=0))[0]\n",
        "\n"
      ],
      "id": "dm47MOsVg07g",
      "execution_count": null,
      "outputs": [
        {
          "output_type": "stream",
          "text": [
            "All terms that belongs to left wing:  (356003, 490992)\n",
            "All terms that belongs to right wing:  (541099, 490992)\n"
          ],
          "name": "stdout"
        }
      ]
    },
    {
      "cell_type": "code",
      "metadata": {
        "colab": {
          "base_uri": "https://localhost:8080/"
        },
        "id": "-rO1ikJVl6S-",
        "outputId": "dfaf4526-f947-46da-8920-3785580252a0"
      },
      "source": [
        "terms_names = count_vectorizer.get_feature_names()\n",
        "print(\"Number of unique terms in the all tweets: \", len(terms_names))\n",
        "print(\"Terms array shape: \", terms_arr.shape)\n",
        "\n",
        "# Retrieving the indexes of top 10 term frequency of positive&negative sentiment\n",
        "top_pos_vector_indexes = list(reversed(tf_pos_terms.argsort()[-10:,]))\n",
        "top_neg_vector_indexes = list(reversed(tf_neg_terms.argsort()[-10:,]))\n",
        "\n",
        "# Retrieving the terms associated with their indexes\n",
        "top_pos_vector_terms = [[terms_names[index], tf_pos_terms[index]] for index in top_pos_vector_indexes]\n",
        "top_neg_vector_terms = [[terms_names[index], tf_neg_terms[index]] for index in top_neg_vector_indexes]\n",
        "\n",
        "df_pos_top10_terms = pd.DataFrame({'Left Wing Terms': [term[0] for term in top_pos_vector_terms], 'Frequency': [term[1] for term in top_pos_vector_terms]})\n",
        "df_neg_top10_terms = pd.DataFrame({'Right Wing Terms': [term[0] for term in top_neg_vector_terms], 'Frequency': [term[1] for term in top_neg_vector_terms]})"
      ],
      "id": "-rO1ikJVl6S-",
      "execution_count": null,
      "outputs": [
        {
          "output_type": "stream",
          "text": [
            "Number of unique terms in the all tweets:  490992\n",
            "Terms array shape:  (897102, 490992)\n"
          ],
          "name": "stdout"
        }
      ]
    },
    {
      "cell_type": "code",
      "metadata": {
        "colab": {
          "base_uri": "https://localhost:8080/",
          "height": 376
        },
        "id": "upENECfDg1JF",
        "outputId": "2077e5e9-13ff-493d-80a9-65b9a7cf1598"
      },
      "source": [
        "# Helper JS function to display side by side in Jupyter notebook \n",
        "from IPython.display import display_html\n",
        "def display_side_by_side(*args):\n",
        "    html_str=''\n",
        "    for df in args:\n",
        "        html_str+=df.to_html()\n",
        "    display_html(html_str.replace('table','table style=\"display:inline\"'),raw=True)\n",
        "\n",
        "print(\"Most popular terms for right and left wings tweets:\")\n",
        "display_side_by_side(df_pos_top10_terms, df_neg_top10_terms)"
      ],
      "id": "upENECfDg1JF",
      "execution_count": null,
      "outputs": [
        {
          "output_type": "stream",
          "text": [
            "Most popular terms for right and left wings tweets:\n"
          ],
          "name": "stdout"
        },
        {
          "output_type": "display_data",
          "data": {
            "text/html": [
              "<table style=\"display:inline\" border=\"1\" class=\"dataframe\">\n",
              "  <thead>\n",
              "    <tr style=\"text-align: right;\">\n",
              "      <th></th>\n",
              "      <th>Left Wing Terms</th>\n",
              "      <th>Frequency</th>\n",
              "    </tr>\n",
              "  </thead>\n",
              "  <tbody>\n",
              "    <tr>\n",
              "      <th>0</th>\n",
              "      <td>נתניהו</td>\n",
              "      <td>21104</td>\n",
              "    </tr>\n",
              "    <tr>\n",
              "      <th>1</th>\n",
              "      <td>ישראל</td>\n",
              "      <td>13215</td>\n",
              "    </tr>\n",
              "    <tr>\n",
              "      <th>2</th>\n",
              "      <td>שלא</td>\n",
              "      <td>12807</td>\n",
              "    </tr>\n",
              "    <tr>\n",
              "      <th>3</th>\n",
              "      <td>כבר</td>\n",
              "      <td>11914</td>\n",
              "    </tr>\n",
              "    <tr>\n",
              "      <th>4</th>\n",
              "      <td>עוד</td>\n",
              "      <td>11812</td>\n",
              "    </tr>\n",
              "    <tr>\n",
              "      <th>5</th>\n",
              "      <td>הזה</td>\n",
              "      <td>11617</td>\n",
              "    </tr>\n",
              "    <tr>\n",
              "      <th>6</th>\n",
              "      <td>אחד</td>\n",
              "      <td>11133</td>\n",
              "    </tr>\n",
              "    <tr>\n",
              "      <th>7</th>\n",
              "      <td>לך</td>\n",
              "      <td>10874</td>\n",
              "    </tr>\n",
              "    <tr>\n",
              "      <th>8</th>\n",
              "      <td>ולא</td>\n",
              "      <td>10670</td>\n",
              "    </tr>\n",
              "    <tr>\n",
              "      <th>9</th>\n",
              "      <td>שהוא</td>\n",
              "      <td>9755</td>\n",
              "    </tr>\n",
              "  </tbody>\n",
              "</table style=\"display:inline\"><table style=\"display:inline\" border=\"1\" class=\"dataframe\">\n",
              "  <thead>\n",
              "    <tr style=\"text-align: right;\">\n",
              "      <th></th>\n",
              "      <th>Right Wing Terms</th>\n",
              "      <th>Frequency</th>\n",
              "    </tr>\n",
              "  </thead>\n",
              "  <tbody>\n",
              "    <tr>\n",
              "      <th>0</th>\n",
              "      <td>בנט</td>\n",
              "      <td>31925</td>\n",
              "    </tr>\n",
              "    <tr>\n",
              "      <th>1</th>\n",
              "      <td>ישראל</td>\n",
              "      <td>24673</td>\n",
              "    </tr>\n",
              "    <tr>\n",
              "      <th>2</th>\n",
              "      <td>נתניהו</td>\n",
              "      <td>22994</td>\n",
              "    </tr>\n",
              "    <tr>\n",
              "      <th>3</th>\n",
              "      <td>לך</td>\n",
              "      <td>21625</td>\n",
              "    </tr>\n",
              "    <tr>\n",
              "      <th>4</th>\n",
              "      <td>שלא</td>\n",
              "      <td>19151</td>\n",
              "    </tr>\n",
              "    <tr>\n",
              "      <th>5</th>\n",
              "      <td>עוד</td>\n",
              "      <td>16782</td>\n",
              "    </tr>\n",
              "    <tr>\n",
              "      <th>6</th>\n",
              "      <td>ממשלה</td>\n",
              "      <td>16254</td>\n",
              "    </tr>\n",
              "    <tr>\n",
              "      <th>7</th>\n",
              "      <td>ולא</td>\n",
              "      <td>15590</td>\n",
              "    </tr>\n",
              "    <tr>\n",
              "      <th>8</th>\n",
              "      <td>כבר</td>\n",
              "      <td>15123</td>\n",
              "    </tr>\n",
              "    <tr>\n",
              "      <th>9</th>\n",
              "      <td>הממשלה</td>\n",
              "      <td>15024</td>\n",
              "    </tr>\n",
              "  </tbody>\n",
              "</table style=\"display:inline\">"
            ]
          },
          "metadata": {
            "tags": []
          }
        }
      ]
    },
    {
      "cell_type": "code",
      "metadata": {
        "colab": {
          "base_uri": "https://localhost:8080/",
          "height": 733
        },
        "id": "bihQY6Gag1Qb",
        "outputId": "0e0d560f-ea8b-4711-a30e-3e1613bc1c08"
      },
      "source": [
        "# Lib for displaying Hewbrew text from left-to-right\n",
        "!pip install python-bidi\n",
        "from bidi import algorithm as bidialg\n",
        "\n",
        "def plot_bar_top10_terms(pos: pd.DataFrame, neg: pd.DataFrame, rotation='horizontal'): \n",
        "  \"\"\"\n",
        "  Plotting the 10 top freqeunt terms  in the data\n",
        "  \"\"\"\n",
        "  pos['Left Wing Terms'] = [bidialg.get_display(x) for x in pos['Left Wing Terms']]\n",
        "  neg['Right Wing Terms'] = [bidialg.get_display(x) for x in neg['Right Wing Terms']]\n",
        "\n",
        "  fig, (ax1,ax2) = plt.subplots(1,2,figsize=(22,10))\n",
        "\n",
        "  ax1.bar(pos['Left Wing Terms'], pos['Frequency'], color='g')\n",
        "  ax1.set_title('Left Wing terms frequency distribution')\n",
        "  ax1.set_xlabel('Term')\n",
        "  ax1.set_xticklabels(pos['Left Wing Terms'], rotation=rotation)\n",
        "  ax1.set_ylabel('Term frequency')\n",
        "\n",
        "  ax2.bar(neg['Right Wing Terms'], neg['Frequency'], color='r')\n",
        "  ax2.set_title('Right Wing terms frequency distribution')\n",
        "  ax2.set_xlabel('Term')\n",
        "  ax2.set_xticklabels(neg['Right Wing Terms'], rotation=rotation)\n",
        "  ax2.set_ylabel('Term frequency')\n",
        "  plt.show()\n",
        "\n",
        "plot_bar_top10_terms(df_pos_top10_terms, df_neg_top10_terms)"
      ],
      "id": "bihQY6Gag1Qb",
      "execution_count": null,
      "outputs": [
        {
          "output_type": "stream",
          "text": [
            "Collecting python-bidi\n",
            "  Downloading python_bidi-0.4.2-py2.py3-none-any.whl (30 kB)\n",
            "Requirement already satisfied: six in /usr/local/lib/python3.7/dist-packages (from python-bidi) (1.15.0)\n",
            "Installing collected packages: python-bidi\n",
            "Successfully installed python-bidi-0.4.2\n"
          ],
          "name": "stdout"
        },
        {
          "output_type": "display_data",
          "data": {
            "image/png": "[encoded data removed]",
            "text/plain": [
              "<Figure size 1584x720 with 2 Axes>"
            ]
          },
          "metadata": {
            "tags": [],
            "needs_background": "light"
          }
        }
      ]
    },
    {
      "cell_type": "markdown",
      "metadata": {
        "id": "26f6e8e9"
      },
      "source": [
        "### **Naive Model classification**"
      ],
      "id": "26f6e8e9"
    },
    {
      "cell_type": "markdown",
      "metadata": {
        "id": "bDXlhAgM3sTK"
      },
      "source": [
        "**Dividing the data into train and test sets**"
      ],
      "id": "bDXlhAgM3sTK"
    },
    {
      "cell_type": "code",
      "metadata": {
        "id": "f437ca34"
      },
      "source": [
        "X_train, X_test, y_train, y_test = train_test_split(df['text'], df['class'], test_size=0.2, random_state=42)"
      ],
      "id": "f437ca34",
      "execution_count": null,
      "outputs": []
    },
    {
      "cell_type": "code",
      "metadata": {
        "colab": {
          "base_uri": "https://localhost:8080/"
        },
        "id": "3b031168",
        "outputId": "ea585dc9-b842-4e49-e5b3-cb4c14d569ee"
      },
      "source": [
        "np.shape(X_train), np.shape(X_test), np.shape(y_train), np.shape(y_test)"
      ],
      "id": "3b031168",
      "execution_count": null,
      "outputs": [
        {
          "output_type": "execute_result",
          "data": {
            "text/plain": [
              "((717681,), (179421,), (717681,), (179421,))"
            ]
          },
          "metadata": {
            "tags": []
          },
          "execution_count": 13
        }
      ]
    },
    {
      "cell_type": "markdown",
      "metadata": {
        "id": "e8c6d028"
      },
      "source": [
        "<b> Preparing the data - TfIdf, n-gram </b>"
      ],
      "id": "e8c6d028"
    },
    {
      "cell_type": "code",
      "metadata": {
        "id": "15060c0a"
      },
      "source": [
        "def draw_plots(models, model_descriptions, scores, train_times, val_times):\n",
        "    \n",
        "    indices = np.arange(len(models))\n",
        "\n",
        "    training_time = np.array(train_times) / np.max(train_times)+0.05\n",
        "    test_time = np.array(val_times) / np.max(val_times)\n",
        "    \n",
        "    plt.figure(figsize=(12, 8))\n",
        "    plt.title(\"Score\")\n",
        "    plt.barh(indices, scores, .2, label=\"score\", color='navy')\n",
        "    plt.barh(indices + .3, training_time, .2, label=\"training time\",color='c')\n",
        "    plt.barh(indices + .6, test_time, .2, label=\"validation time\", color='darkorange')\n",
        "    plt.yticks(())\n",
        "    plt.legend(loc='best')\n",
        "    plt.subplots_adjust(left=.25)\n",
        "    plt.subplots_adjust(top=.95)\n",
        "    plt.subplots_adjust(bottom=.05)\n",
        "\n",
        "    for i, c in zip(indices, model_descriptions):\n",
        "        plt.text(-.3, i, c)\n",
        "\n",
        "    plt.show()\n",
        "\n",
        "def optimize_models(models, vectorizer):\n",
        "    for model in models:\n",
        "        clf = Pipeline([('vect', vectorizer),('clf', model)])\n",
        "        \n",
        "        if str(model).split('(')[0]== 'LinearSVC': \n",
        "            parameters =  {'vect__max_df': (0.2,0.5), 'vect__ngram_range': ((1,2),(1,3)),'clf__max_iter': (4000,5000)}\n",
        "            gs_clf = GridSearchCV(clf, parameters, scoring='accuracy', cv=5)\n",
        "        \n",
        "        if str(model).split('(')[0]== 'Perceptron': \n",
        "            parameters =  {'vect__max_df': (0.2,0.5), 'vect__ngram_range': ((1,2),(1,3)),'clf__validation_fraction':(0.1,0.5)}\n",
        "            gs_clf = GridSearchCV(clf, parameters, scoring='accuracy', cv=5)\n",
        "        \n",
        "        if str(model).split('(')[0]== 'MultinomialNB': \n",
        "            parameters =  {'vect__max_df': (0.2,0.5), 'vect__ngram_range': ((1,2),(1,3)),'clf__alpha': (0.01,1.0)}\n",
        "            gs_clf = GridSearchCV(clf, parameters, n_jobs=1)\n",
        "        \n",
        "        gs_clf = gs_clf.fit(X_train.astype('U'), y_train)\n",
        "        \n",
        "        print('For ', str(model).split('(')[0], 'classifier - ')\n",
        "        print('Best score: ',gs_clf.best_score_, ' Best params: ',gs_clf.best_params_)\n",
        "        print('_'*100)\n",
        "\n",
        "\n",
        "def fit_models(X, X_val, y_val, vectorizer, models, with_train):\n",
        "    scores = []\n",
        "    train_times = []\n",
        "    val_times = []\n",
        "    model_descriptions = []\n",
        "    i = 0\n",
        "    for model in models:\n",
        "        train_time = 0\n",
        "        if with_train:\n",
        "            t0_train = time.time()\n",
        "            history = model.fit(X[i], y_train)\n",
        "            train_time = time.time()-t0_train\n",
        "        t0_val = time.time()\n",
        "        predictions = model.predict(vectorizer[i].transform(X_val.astype('U')))\n",
        "        val_time = time.time()-t0_val\n",
        "        train_times.append(train_time)\n",
        "        val_times.append(val_time)\n",
        "        model_descriptions.append(str(model).split('(')[0])\n",
        "        scores.append(accuracy_score(y_val, predictions))\n",
        "        \n",
        "#         if print_details:\n",
        "        print(str(model).split('(')[0])\n",
        "        print(model.get_params())\n",
        "        print('Score: ', accuracy_score(y_val, predictions))\n",
        "        print('Training time: ', train_time)\n",
        "        print('Validation time: ',val_time)\n",
        "\n",
        "        fig, (ax1,ax2) = plt.subplots(1,2)\n",
        "        fig.set_figheight(5)\n",
        "        fig.set_figwidth(12)\n",
        "        cm = confusion_matrix(predictions, y_val)\n",
        "        ax = sns.heatmap(cm, annot=True, fmt='d', ax=ax1)\n",
        "        ax.set_yticklabels(['Positive', 'Negative'])\n",
        "        ax.set_xticklabels(['Positive', 'Negative'])\n",
        "        ax.tick_params(axis='x', labelrotation= 90)\n",
        "        ax.tick_params(axis='y', labelrotation= 0)\n",
        "\n",
        "        if str(model).split('(')[0]== 'MultinomialNB':\n",
        "            average_precision = average_precision_score(y_val, predictions)\n",
        "        else:    \n",
        "            y_score = model.decision_function(vectorizer[i].transform(X_val.astype('U')))\n",
        "            average_precision = average_precision_score(y_val, y_score)\n",
        "\n",
        "        disp = plot_precision_recall_curve(model,vectorizer[i].transform(X_val.astype('U')), y_val, ax=ax2)\n",
        "        disp.ax_.set_title('2-class Precision-Recall curve: '\n",
        "                   'AP={0:0.2f}'.format(average_precision))\n",
        "        plt.tight_layout(pad=5.08)\n",
        "\n",
        "        plt.show()\n",
        "        print('_'*110)\n",
        "\n",
        "        i+=1\n",
        "    return models, model_descriptions, scores, train_times, val_times"
      ],
      "id": "15060c0a",
      "execution_count": null,
      "outputs": []
    },
    {
      "cell_type": "markdown",
      "metadata": {
        "id": "O0oLmaqnpXCf"
      },
      "source": [
        "**Optimizing models parameters**"
      ],
      "id": "O0oLmaqnpXCf"
    },
    {
      "cell_type": "code",
      "metadata": {
        "id": "QfI1M-ItbUjO"
      },
      "source": [
        "vectorizer = TfidfVectorizer().fit(X_train.astype('U'))\n",
        "X = vectorizer.transform(X_train.astype('U'))\n",
        "SVC = LinearSVC()\n",
        "Per = Perceptron()\n",
        "NB = MultinomialNB()\n",
        "models = [Per, NB, SVC]\n",
        "optimize_models(models,vectorizer)"
      ],
      "id": "QfI1M-ItbUjO",
      "execution_count": null,
      "outputs": []
    },
    {
      "cell_type": "markdown",
      "metadata": {
        "id": "LhYPBPZKpe1e"
      },
      "source": [
        "**Training the models**"
      ],
      "id": "LhYPBPZKpe1e"
    },
    {
      "cell_type": "code",
      "metadata": {
        "id": "e9c9a01b"
      },
      "source": [
        "vectorizer_TFIDF = []\n",
        "X = []\n",
        "Per = Perceptron(validation_fraction=0.1)\n",
        "vectorizer_TFIDF.append(TfidfVectorizer(max_df=0.2, ngram_range=(1, 2)).fit(X_train.astype('U')))\n",
        "X.append(vectorizer_TFIDF[0].transform(X_train.astype('U')))\n",
        "NB = MultinomialNB(alpha=1.0)\n",
        "vectorizer_TFIDF.append(TfidfVectorizer(max_df=0.2, ngram_range=(1, 2)).fit(X_train.astype('U')))\n",
        "X.append(vectorizer_TFIDF[1].transform(X_train.astype('U')))\n",
        "SVC = LinearSVC(max_iter=4000)\n",
        "vectorizer_TFIDF.append(TfidfVectorizer(max_df=0.2, ngram_range=(1, 2)).fit(X_train.astype('U')))\n",
        "X.append(vectorizer_TFIDF[2].transform(X_train.astype('U')))"
      ],
      "id": "e9c9a01b",
      "execution_count": null,
      "outputs": []
    },
    {
      "cell_type": "markdown",
      "metadata": {
        "id": "4917e1a4"
      },
      "source": [
        "<b> Choosing and training the naive model and its parameters </b>"
      ],
      "id": "4917e1a4"
    },
    {
      "cell_type": "code",
      "metadata": {
        "colab": {
          "base_uri": "https://localhost:8080/"
        },
        "id": "ddd40776",
        "outputId": "36e9f14a-b83e-4106-8342-18ac21c13150"
      },
      "source": [
        "models = [Per, NB, SVC]\n",
        "models_TFIDF, model_descriptions, scores, train_times, val_times = fit_models(X, X_test, y_test, vectorizer_TFIDF, models, True)"
      ],
      "id": "ddd40776",
      "execution_count": null,
      "outputs": [
        {
          "output_type": "stream",
          "text": [
            "Perceptron\n",
            "{'alpha': 0.0001, 'class_weight': None, 'early_stopping': False, 'eta0': 1.0, 'fit_intercept': True, 'max_iter': 1000, 'n_iter_no_change': 5, 'n_jobs': None, 'penalty': None, 'random_state': 0, 'shuffle': True, 'tol': 0.001, 'validation_fraction': 0.1, 'verbose': 0, 'warm_start': False}\n",
            "Score:  0.8073859804593665\n",
            "Training time:  3.471101999282837\n",
            "Validation time:  8.022508144378662\n"
          ],
          "name": "stdout"
        },
        {
          "output_type": "display_data",
          "data": {
            "image/png": "[encoded data removed]",
            "text/plain": [
              "<Figure size 864x360 with 3 Axes>"
            ]
          },
          "metadata": {
            "tags": []
          }
        },
        {
          "output_type": "stream",
          "text": [
            "______________________________________________________________________________________________________________\n",
            "MultinomialNB\n",
            "{'alpha': 1.0, 'class_prior': None, 'fit_prior': True}\n",
            "Score:  0.7355214829925149\n",
            "Training time:  0.757544994354248\n",
            "Validation time:  8.38425087928772\n"
          ],
          "name": "stdout"
        },
        {
          "output_type": "display_data",
          "data": {
            "image/png": "[encoded data removed]",
            "text/plain": [
              "<Figure size 864x360 with 3 Axes>"
            ]
          },
          "metadata": {
            "tags": []
          }
        },
        {
          "output_type": "stream",
          "text": [
            "______________________________________________________________________________________________________________\n",
            "LinearSVC\n",
            "{'C': 1.0, 'class_weight': None, 'dual': True, 'fit_intercept': True, 'intercept_scaling': 1, 'loss': 'squared_hinge', 'max_iter': 4000, 'multi_class': 'ovr', 'penalty': 'l2', 'random_state': None, 'tol': 0.0001, 'verbose': 0}\n",
            "Score:  0.8386309294898591\n",
            "Training time:  19.808990955352783\n",
            "Validation time:  8.303141832351685\n"
          ],
          "name": "stdout"
        },
        {
          "output_type": "display_data",
          "data": {
            "image/png": "[encoded data removed]",
            "text/plain": [
              "<Figure size 864x360 with 3 Axes>"
            ]
          },
          "metadata": {
            "tags": []
          }
        },
        {
          "output_type": "stream",
          "text": [
            "______________________________________________________________________________________________________________\n"
          ],
          "name": "stdout"
        }
      ]
    },
    {
      "cell_type": "markdown",
      "metadata": {
        "id": "10db9f0b"
      },
      "source": [
        "<b> Plotting and visualizing the results </b>"
      ],
      "id": "10db9f0b"
    },
    {
      "cell_type": "code",
      "metadata": {
        "colab": {
          "base_uri": "https://localhost:8080/"
        },
        "id": "b9a62555",
        "outputId": "24386b75-c5dd-43ef-92a9-ea813efe6486"
      },
      "source": [
        "draw_plots(models_TFIDF, model_descriptions, scores, train_times, val_times)"
      ],
      "id": "b9a62555",
      "execution_count": null,
      "outputs": [
        {
          "output_type": "display_data",
          "data": {
            "image/png": "[encoded data removed]",
            "text/plain": [
              "<Figure size 864x576 with 1 Axes>"
            ]
          },
          "metadata": {
            "tags": []
          }
        }
      ]
    },
    {
      "cell_type": "markdown",
      "metadata": {
        "id": "2830ee3d"
      },
      "source": [
        "## **Deep Learning Models**"
      ],
      "id": "2830ee3d"
    },
    {
      "cell_type": "markdown",
      "metadata": {
        "id": "f63ea035"
      },
      "source": [
        "### **Bi-LSTM**"
      ],
      "id": "f63ea035"
    },
    {
      "cell_type": "markdown",
      "metadata": {
        "id": "e96afe15"
      },
      "source": [
        "<b> Preparing the data - tokenization & padding </b>"
      ],
      "id": "e96afe15"
    },
    {
      "cell_type": "code",
      "metadata": {
        "id": "91473aec"
      },
      "source": [
        "df = df.fillna(\"_na_\")\n",
        "tokenizer = Tokenizer(num_words=max_features, lower=False)\n",
        "tokenizer.fit_on_texts(list(df['text']))"
      ],
      "id": "91473aec",
      "execution_count": null,
      "outputs": []
    },
    {
      "cell_type": "code",
      "metadata": {
        "id": "1fa3ef89"
      },
      "source": [
        "tokens_corpus = pd.DataFrame()\n",
        "tokens_corpus['text'] = df['text']\n",
        "tokens_corpus['class'] = df['class']\n",
        "tokens_corpus.text = tokenizer.texts_to_sequences(tokens_corpus.text)"
      ],
      "id": "1fa3ef89",
      "execution_count": null,
      "outputs": []
    },
    {
      "cell_type": "code",
      "metadata": {
        "colab": {
          "base_uri": "https://localhost:8080/",
          "height": 204
        },
        "id": "4b194ead",
        "outputId": "1a6e3dba-ec6d-4342-f263-caffc997e1e6"
      },
      "source": [
        "tokens_corpus['class'] = tokens_corpus['class'].astype(np.int)\n",
        "tokens_corpus.head()"
      ],
      "id": "4b194ead",
      "execution_count": null,
      "outputs": [
        {
          "output_type": "execute_result",
          "data": {
            "text/html": [
              "<div>\n",
              "<style scoped>\n",
              "    .dataframe tbody tr th:only-of-type {\n",
              "        vertical-align: middle;\n",
              "    }\n",
              "\n",
              "    .dataframe tbody tr th {\n",
              "        vertical-align: top;\n",
              "    }\n",
              "\n",
              "    .dataframe thead th {\n",
              "        text-align: right;\n",
              "    }\n",
              "</style>\n",
              "<table border=\"1\" class=\"dataframe\">\n",
              "  <thead>\n",
              "    <tr style=\"text-align: right;\">\n",
              "      <th></th>\n",
              "      <th>text</th>\n",
              "      <th>class</th>\n",
              "    </tr>\n",
              "  </thead>\n",
              "  <tbody>\n",
              "    <tr>\n",
              "      <th>0</th>\n",
              "      <td>[3538, 6505, 2567]</td>\n",
              "      <td>0</td>\n",
              "    </tr>\n",
              "    <tr>\n",
              "      <th>1</th>\n",
              "      <td>[1191, 21355]</td>\n",
              "      <td>0</td>\n",
              "    </tr>\n",
              "    <tr>\n",
              "      <th>3</th>\n",
              "      <td>[6, 6290, 2736, 1656, 5436, 532, 9295, 501, 21...</td>\n",
              "      <td>0</td>\n",
              "    </tr>\n",
              "    <tr>\n",
              "      <th>4</th>\n",
              "      <td>[121, 1, 2695, 39, 3983]</td>\n",
              "      <td>0</td>\n",
              "    </tr>\n",
              "    <tr>\n",
              "      <th>5</th>\n",
              "      <td>[121, 16, 1, 206, 44, 41]</td>\n",
              "      <td>0</td>\n",
              "    </tr>\n",
              "  </tbody>\n",
              "</table>\n",
              "</div>"
            ],
            "text/plain": [
              "                                                text  class\n",
              "0                                 [3538, 6505, 2567]      0\n",
              "1                                      [1191, 21355]      0\n",
              "3  [6, 6290, 2736, 1656, 5436, 532, 9295, 501, 21...      0\n",
              "4                           [121, 1, 2695, 39, 3983]      0\n",
              "5                          [121, 16, 1, 206, 44, 41]      0"
            ]
          },
          "metadata": {
            "tags": []
          },
          "execution_count": 66
        }
      ]
    },
    {
      "cell_type": "markdown",
      "metadata": {
        "id": "196a2c7d"
      },
      "source": [
        "##### Helping functions"
      ],
      "id": "196a2c7d"
    },
    {
      "cell_type": "code",
      "metadata": {
        "id": "5a65ae74"
      },
      "source": [
        "def data_padding(target, by_col, maxlen):\n",
        "    padded_data = pad_sequences(target[by_col], maxlen=maxlen, padding='post')\n",
        "    target[by_col] = [seq for seq in padded_data]\n",
        "    return target[by_col]\n",
        "\n",
        "def create_data_arrays(data1, y):\n",
        "    x1 = data1.copy()\n",
        "    res1 = np.array(list(x for x in x1))\n",
        "    y_arr = np.array(y)\n",
        "    \n",
        "    return res1, y_arr\n",
        "\n",
        "# Help function for plotting the model training & validation loss and accuracy\n",
        "def plot_model_results(model):\n",
        "    fig, ax = plt.subplots(2,2,figsize=(25,18))\n",
        "    # Plot training & validation loss values\n",
        "    ax[0][0].plot(model.history['loss'])\n",
        "    ax[0][0].plot(model.history['val_loss'])\n",
        "    ax[0][0].set_title('Model loss')\n",
        "    ax[0][0].set_ylabel('Loss')\n",
        "    ax[0][0].set_xlabel('Epoch Amount')\n",
        "    ax[0][0].legend(['Train', 'Validation'], loc='upper left')\n",
        "\n",
        "    # Plot training & validation accuracy values\n",
        "    ax[0][1].plot(model.history['accuracy'])\n",
        "    ax[0][1].plot(model.history['val_accuracy'])\n",
        "    ax[0][1].set_title('Model accuracy')\n",
        "    ax[0][1].set_ylabel('Accuracy')\n",
        "    ax[0][1].set_xlabel('Epoch Amount')\n",
        "    ax[0][1].legend(['Train', 'Validation'], loc='upper left')\n",
        "\n",
        "    # Plot training & validation MAE loss values\n",
        "    ax[1][0].plot(model.history['mean_absolute_error'])\n",
        "    ax[1][0].plot(model.history['val_mean_absolute_error'])\n",
        "    ax[1][0].set_title('Model MAE Loss')\n",
        "    ax[1][0].set_ylabel('MAE loss')\n",
        "    ax[1][0].set_xlabel('Epoch Amount')\n",
        "    ax[1][0].legend(['Train', 'Validation'], loc='upper left')\n",
        "\n",
        "    # Plot training & validation MSE loss values\n",
        "    ax[1][1].plot(model.history['mean_squared_error'])\n",
        "    ax[1][1].plot(model.history['val_mean_squared_error'])\n",
        "    ax[1][1].set_title('Model MSE Loss')\n",
        "    ax[1][1].set_ylabel('MSE loss')\n",
        "    ax[1][1].set_xlabel('Epoch Amount')\n",
        "    ax[1][1].legend(['Train', 'Validation'], loc='upper left')\n",
        "    \n",
        "    plt.show()\n",
        "    \n",
        "# Help function for display the confusion matrix to eavluate model performance\n",
        "def model_con_matrix(y, results, labels):\n",
        "    con = confusion_matrix(y,results)\n",
        "    a = plt.figure(figsize=(20,15), dpi=50)\n",
        "    a = sns.heatmap(con, annot=True, fmt = 'd', xticklabels=labels, yticklabels=labels)\n",
        "    a = plt.rcParams.update({'font.size': 20})\n",
        "    a = plt.title('Confusion Matrix')\n",
        "    a = plt.xlabel('Predictions')\n",
        "    a = plt.ylabel('True Values')\n",
        "    \n",
        "def print_model_scores(history, name=\"\"):\n",
        "    print(f'=============== {name} Training Scores ===============')\n",
        "    print(f'Model Average Training Accuracy: {np.mean(history.history[\"accuracy\"])}')\n",
        "    print(f'Model Average Training Loss: {np.mean(history.history[\"loss\"])}')\n",
        "    print(f'Model Average Training RMSE: {np.mean(history.history[\"mean_absolute_error\"])}')\n",
        "    print(f'Model Average Training MSE: {np.mean(history.history[\"mean_squared_error\"])}')\n",
        "\n",
        "    print(f'=============== {name} Validation Scores ===============')\n",
        "    print(f'Model Average Validation Accuracy: {np.mean(history.history[\"val_accuracy\"])}')\n",
        "    print(f'Model Average Validation Loss: {np.mean(history.history[\"val_loss\"])}')\n",
        "    print(f'Model Average Validation RMSE: {np.mean(history.history[\"val_mean_absolute_error\"])}')\n",
        "    print(f'Model Average Validation MSE: {np.mean(history.history[\"val_mean_squared_error\"])}')"
      ],
      "id": "5a65ae74",
      "execution_count": null,
      "outputs": []
    },
    {
      "cell_type": "code",
      "metadata": {
        "colab": {
          "base_uri": "https://localhost:8080/",
          "height": 204
        },
        "id": "d22c6be2",
        "outputId": "c539b11e-03dc-4367-87eb-6c8cd535319e"
      },
      "source": [
        "# Data padding according to the var maxlen\n",
        "tokens_corpus.text = data_padding(tokens_corpus, by_col='text', maxlen=maxlen)\n",
        "tokens_corpus.head()"
      ],
      "id": "d22c6be2",
      "execution_count": null,
      "outputs": [
        {
          "output_type": "execute_result",
          "data": {
            "text/html": [
              "<div>\n",
              "<style scoped>\n",
              "    .dataframe tbody tr th:only-of-type {\n",
              "        vertical-align: middle;\n",
              "    }\n",
              "\n",
              "    .dataframe tbody tr th {\n",
              "        vertical-align: top;\n",
              "    }\n",
              "\n",
              "    .dataframe thead th {\n",
              "        text-align: right;\n",
              "    }\n",
              "</style>\n",
              "<table border=\"1\" class=\"dataframe\">\n",
              "  <thead>\n",
              "    <tr style=\"text-align: right;\">\n",
              "      <th></th>\n",
              "      <th>text</th>\n",
              "      <th>class</th>\n",
              "    </tr>\n",
              "  </thead>\n",
              "  <tbody>\n",
              "    <tr>\n",
              "      <th>0</th>\n",
              "      <td>[3538, 6505, 2567, 0, 0, 0, 0, 0, 0, 0, 0, 0, ...</td>\n",
              "      <td>0</td>\n",
              "    </tr>\n",
              "    <tr>\n",
              "      <th>1</th>\n",
              "      <td>[1191, 21355, 0, 0, 0, 0, 0, 0, 0, 0, 0, 0, 0,...</td>\n",
              "      <td>0</td>\n",
              "    </tr>\n",
              "    <tr>\n",
              "      <th>3</th>\n",
              "      <td>[6, 6290, 2736, 1656, 5436, 532, 9295, 501, 21...</td>\n",
              "      <td>0</td>\n",
              "    </tr>\n",
              "    <tr>\n",
              "      <th>4</th>\n",
              "      <td>[121, 1, 2695, 39, 3983, 0, 0, 0, 0, 0, 0, 0, ...</td>\n",
              "      <td>0</td>\n",
              "    </tr>\n",
              "    <tr>\n",
              "      <th>5</th>\n",
              "      <td>[121, 16, 1, 206, 44, 41, 0, 0, 0, 0, 0, 0, 0,...</td>\n",
              "      <td>0</td>\n",
              "    </tr>\n",
              "  </tbody>\n",
              "</table>\n",
              "</div>"
            ],
            "text/plain": [
              "                                                text  class\n",
              "0  [3538, 6505, 2567, 0, 0, 0, 0, 0, 0, 0, 0, 0, ...      0\n",
              "1  [1191, 21355, 0, 0, 0, 0, 0, 0, 0, 0, 0, 0, 0,...      0\n",
              "3  [6, 6290, 2736, 1656, 5436, 532, 9295, 501, 21...      0\n",
              "4  [121, 1, 2695, 39, 3983, 0, 0, 0, 0, 0, 0, 0, ...      0\n",
              "5  [121, 16, 1, 206, 44, 41, 0, 0, 0, 0, 0, 0, 0,...      0"
            ]
          },
          "metadata": {
            "tags": []
          },
          "execution_count": 68
        }
      ]
    },
    {
      "cell_type": "code",
      "metadata": {
        "colab": {
          "base_uri": "https://localhost:8080/"
        },
        "id": "6f068440",
        "outputId": "748e7c4a-3a3c-4cdb-ee1b-a47a2c124a2c"
      },
      "source": [
        "# Creating train, validation and test sets\n",
        "data_x_train_dl, data_x_test_dl, data_y_train_dl, data_y_test_dl = train_test_split(tokens_corpus['text'], tokens_corpus['class'], test_size = 0.2, random_state = 2021)\n",
        "data_x_train_dl, data_x_val_dl, data_y_train_dl, data_y_val_dl = train_test_split(data_x_train_dl, data_y_train_dl, test_size=0.2)\n",
        "\n",
        "print(\"X train shape: \", data_x_train_dl.shape, \"y train shape: \" , data_y_train_dl.shape)\n",
        "print(\"X val shape: \", data_x_val_dl.shape, \"y val shape: \" , data_y_val_dl.shape)\n",
        "print(\"X test shape: \", data_x_test_dl.shape, \"y test shape: \" , data_y_test_dl.shape)"
      ],
      "id": "6f068440",
      "execution_count": null,
      "outputs": [
        {
          "output_type": "stream",
          "text": [
            "X train shape:  (484544,) y train shape:  (484544,)\n",
            "X val shape:  (121137,) y val shape:  (121137,)\n",
            "X test shape:  (151421,) y test shape:  (151421,)\n"
          ],
          "name": "stdout"
        }
      ]
    },
    {
      "cell_type": "code",
      "metadata": {
        "colab": {
          "base_uri": "https://localhost:8080/"
        },
        "id": "6b6248be",
        "outputId": "abf0c950-9eb1-43b0-92b7-ee95994cbed1"
      },
      "source": [
        "# Orginizing the data into the right shapes\n",
        "X_train_dl, y_train_dl = create_data_arrays(data_x_train_dl, data_y_train_dl)\n",
        "X_val_dl, y_val_dl = create_data_arrays(data_x_val_dl, data_y_val_dl)\n",
        "X_test_dl, y_test_dl = create_data_arrays(data_x_test_dl, data_y_test_dl)\n",
        "\n",
        "print(\"X train shape: \", X_train_dl.shape, \"y train shape: \" , y_train_dl.shape)\n",
        "print(\"X val shape: \", X_val_dl.shape, \"y val shape: \" , y_val_dl.shape)\n",
        "print(\"X test shape: \", X_test_dl.shape, \"y test shape: \" , y_test_dl.shape)"
      ],
      "id": "6b6248be",
      "execution_count": null,
      "outputs": [
        {
          "output_type": "stream",
          "text": [
            "X train shape:  (484544, 50) y train shape:  (484544,)\n",
            "X val shape:  (121137, 50) y val shape:  (121137,)\n",
            "X test shape:  (151421, 50) y test shape:  (151421,)\n"
          ],
          "name": "stdout"
        }
      ]
    },
    {
      "cell_type": "code",
      "metadata": {
        "id": "8f822519"
      },
      "source": [
        "# df = df.fillna(\"_na_\")\n",
        "# tokenizer = Tokenizer(num_words=max_features, lower=False)\n",
        "# tokenizer.fit_on_texts(list(X_train))\n",
        "\n",
        "# X_train = tokenizer.texts_to_sequences(X_train)\n",
        "# X_train = pad_sequences(X_train, maxlen=maxlen)"
      ],
      "id": "8f822519",
      "execution_count": null,
      "outputs": []
    },
    {
      "cell_type": "markdown",
      "metadata": {
        "id": "107a615a"
      },
      "source": [
        "#### Creating the Embedding Matrix from fasttext"
      ],
      "id": "107a615a"
    },
    {
      "cell_type": "code",
      "metadata": {
        "id": "179f698b",
        "outputId": "04b2c142-af68-4457-dbed-30291cb80bba"
      },
      "source": [
        "FT_PATH = 'F:\\\\SocialDynamics\\\\TrendsProject\\\\cc.he.300.bin'\n",
        "ft = fasttext.load_model(FT_PATH)"
      ],
      "id": "179f698b",
      "execution_count": null,
      "outputs": [
        {
          "output_type": "stream",
          "text": [
            "Warning : `load_model` does not return WordVectorModel or SupervisedModel any more, but a `FastText` object which is very similar.\n"
          ],
          "name": "stderr"
        }
      ]
    },
    {
      "cell_type": "markdown",
      "metadata": {
        "id": "db48599c"
      },
      "source": [
        "<b> Customize the embedding matrix to our data </b>"
      ],
      "id": "db48599c"
    },
    {
      "cell_type": "code",
      "metadata": {
        "id": "c4b75e2a"
      },
      "source": [
        "word_index = tokenizer.word_index\n",
        "nb_words = min(max_features+1, len(word_index))\n",
        "embedding_matrix = (np.random.rand(nb_words, embed_size) - 0.5) / 5.0\n",
        "for word, i in word_index.items():\n",
        "    if i >= max_features: continue\n",
        "    if word in ft:\n",
        "        embedding_vector = ft[word]\n",
        "        embedding_matrix[i] = embedding_vector"
      ],
      "id": "c4b75e2a",
      "execution_count": null,
      "outputs": []
    },
    {
      "cell_type": "code",
      "metadata": {
        "id": "2d9e88ef"
      },
      "source": [
        "np.save(\"F:\\\\SocialDynamics\\\\TrendsProject\\\\embeddings_20000.npy\", embedding_matrix)"
      ],
      "id": "2d9e88ef",
      "execution_count": null,
      "outputs": []
    },
    {
      "cell_type": "markdown",
      "metadata": {
        "id": "8nTuIsVc8By9"
      },
      "source": [
        "#### Loading Saved Embedding matrix"
      ],
      "id": "8nTuIsVc8By9"
    },
    {
      "cell_type": "code",
      "metadata": {
        "id": "9fcafc0a"
      },
      "source": [
        "embedding_matrix = np.load(path + \"/embeddings_80000.npy\")"
      ],
      "id": "9fcafc0a",
      "execution_count": null,
      "outputs": []
    },
    {
      "cell_type": "markdown",
      "metadata": {
        "id": "17283888"
      },
      "source": [
        "#### Building Bi-LSTM Model\n",
        "\n",
        "What have we constructed and why? First we created the input layer with the shape of (max length tweet, vocabulary size), then we added the embedding layer in size of 100 to create weights matrix for each word in the tweet's corpus in addition to the word2vec matrix that were injected to this layer, so those weights won't be trainable and keep their real distances weights.\n",
        "\n",
        "Next we added Convolution 1D layer with kernel size of 3 to create more feature maps of the tweet's words. Afterwards we added 2 Bidirectional LSTM of size 256 that transfers weights from each double cells to all others and regularization of 40% dropout for each bi-lstm layer.\n",
        "\n",
        "Finally we constructed 2 dense layers of 128 and 1 hidden neurons, the last dense layer of size 1 is with activation function of 'sigmoid' to produce the probability of being closer to 1 or 0 values.\n",
        "\n",
        "The loss function is binary crossentropy since we are have only 2 classification [0,1] and the evaluation metrics we used are the accuracy, RMSE and MSE for getting more insights on the error rate/distance from our true labled data.\n",
        "\n"
      ],
      "id": "17283888"
    },
    {
      "cell_type": "code",
      "metadata": {
        "id": "e1b22830"
      },
      "source": [
        "def set_callbacks(model_name=\"1\", patience=2):\n",
        "    name = f'{path}/model_{model_name}_weights5.h5'\n",
        "    cp = ModelCheckpoint(name, save_best_only=True)\n",
        "    es = EarlyStopping(patience=patience*3, monitor='val_loss')\n",
        "    rop = ReduceLROnPlateau(patience=patience)\n",
        "    return [rop, es, cp]"
      ],
      "id": "e1b22830",
      "execution_count": null,
      "outputs": []
    },
    {
      "cell_type": "code",
      "metadata": {
        "id": "dc23f9ba"
      },
      "source": [
        "def init_model(inp_shape, voc_size, embedding_size=embed_size):\n",
        "    \n",
        "    inp = Input(shape=inp_shape)\n",
        "    x = Embedding(max_features+1, embedding_size, input_length=maxlen, \n",
        "                  weights=[embedding_matrix], trainable=False)(inp)\n",
        "\n",
        "    x = Conv1D(128,3, padding='same', activation='relu', name=\"Conv1D_1\")(x)\n",
        "\n",
        "    x = Bidirectional(LSTM(256, return_sequences=True, dropout=0.4), name=\"BiLSTM_1\")(x)\n",
        "\n",
        "    x = Bidirectional(LSTM(256, return_sequences=True, dropout=0.4), name=\"BiLSTM_2\")(x)\n",
        "\n",
        "    # x = LSTM(256, name=\"LSTM_1\")(x)\n",
        "\n",
        "    x = Dense(128, activation='relu', name=\"Dense_128\")(x)\n",
        "    x = Dense(1,activation='sigmoid', name=\"Output_Dense\")(x)\n",
        "    \n",
        "    model = Model(inputs=inp,outputs=x)\n",
        "    model.compile(optimizer=\"adam\", loss='binary_crossentropy', metrics=['accuracy', MeanAbsoluteError(), MeanSquaredError()])\n",
        "    \n",
        "    return model"
      ],
      "id": "dc23f9ba",
      "execution_count": null,
      "outputs": []
    },
    {
      "cell_type": "code",
      "metadata": {
        "colab": {
          "base_uri": "https://localhost:8080/"
        },
        "id": "72729ef0",
        "outputId": "977214d2-bf70-4bb1-a1e3-8c7677d9b34e"
      },
      "source": [
        "max_features = 80_000\n",
        "dl_model = init_model((maxlen,), voc_size=max_features)\n",
        "dl_model.summary()"
      ],
      "id": "72729ef0",
      "execution_count": null,
      "outputs": [
        {
          "output_type": "stream",
          "text": [
            "Model: \"model_1\"\n",
            "_________________________________________________________________\n",
            "Layer (type)                 Output Shape              Param #   \n",
            "=================================================================\n",
            "input_2 (InputLayer)         [(None, 50)]              0         \n",
            "_________________________________________________________________\n",
            "embedding_1 (Embedding)      (None, 50, 300)           24000300  \n",
            "_________________________________________________________________\n",
            "Conv1D_1 (Conv1D)            (None, 50, 128)           115328    \n",
            "_________________________________________________________________\n",
            "BiLSTM_1 (Bidirectional)     (None, 50, 512)           788480    \n",
            "_________________________________________________________________\n",
            "BiLSTM_2 (Bidirectional)     (None, 50, 512)           1574912   \n",
            "_________________________________________________________________\n",
            "Dense_128 (Dense)            (None, 50, 128)           65664     \n",
            "_________________________________________________________________\n",
            "Output_Dense (Dense)         (None, 50, 1)             129       \n",
            "=================================================================\n",
            "Total params: 26,544,813\n",
            "Trainable params: 2,544,513\n",
            "Non-trainable params: 24,000,300\n",
            "_________________________________________________________________\n"
          ],
          "name": "stdout"
        }
      ]
    },
    {
      "cell_type": "markdown",
      "metadata": {
        "id": "32b5253e"
      },
      "source": [
        "#### Training the Bi-LSTM Model"
      ],
      "id": "32b5253e"
    },
    {
      "cell_type": "code",
      "metadata": {
        "colab": {
          "base_uri": "https://localhost:8080/"
        },
        "id": "2e062fe1",
        "outputId": "f97126f0-0b85-436b-bd88-5875c8745c19"
      },
      "source": [
        "%%time\n",
        "num_of_epochs = 50\n",
        "batch_size = 128\n",
        "history = dl_model.fit(X_train_dl,y_train_dl,\n",
        "                        epochs=num_of_epochs,\n",
        "                       batch_size=batch_size,\n",
        "                       steps_per_epoch=X_train_dl.shape[0]/batch_size,\n",
        "                       validation_data=(X_val_dl, y_val_dl),\n",
        "                       validation_steps=X_val_dl.shape[0]/batch_size,\n",
        "                       callbacks=set_callbacks(model_name=\"BiLSTM\"))\n",
        "\n",
        "dl_model.save(path + '/Models/Bi_LSTM_model_450users6.h5')"
      ],
      "id": "2e062fe1",
      "execution_count": null,
      "outputs": [
        {
          "output_type": "stream",
          "text": [
            "Epoch 1/50\n",
            "3785/3785 [==============================] - 201s 53ms/step - loss: 0.6273 - accuracy: 0.6242 - mean_absolute_error: 0.4766 - mean_squared_error: 0.2386 - val_loss: 0.5415 - val_accuracy: 0.7068 - val_mean_absolute_error: 0.4376 - val_mean_squared_error: 0.2188\n",
            "Epoch 2/50\n",
            "3785/3785 [==============================] - 200s 53ms/step - loss: 0.5301 - accuracy: 0.7182 - mean_absolute_error: 0.4140 - mean_squared_error: 0.2069 - val_loss: 0.5027 - val_accuracy: 0.7380 - val_mean_absolute_error: 0.3971 - val_mean_squared_error: 0.1985\n",
            "Epoch 3/50\n",
            "3785/3785 [==============================] - 200s 53ms/step - loss: 0.4969 - accuracy: 0.7447 - mean_absolute_error: 0.3848 - mean_squared_error: 0.1923 - val_loss: 0.4839 - val_accuracy: 0.7528 - val_mean_absolute_error: 0.3752 - val_mean_squared_error: 0.1875\n",
            "Epoch 4/50\n",
            "3785/3785 [==============================] - 201s 53ms/step - loss: 0.4763 - accuracy: 0.7597 - mean_absolute_error: 0.3671 - mean_squared_error: 0.1835 - val_loss: 0.4767 - val_accuracy: 0.7585 - val_mean_absolute_error: 0.3606 - val_mean_squared_error: 0.1802\n",
            "Epoch 5/50\n",
            "3785/3785 [==============================] - 202s 53ms/step - loss: 0.4613 - accuracy: 0.7703 - mean_absolute_error: 0.3548 - mean_squared_error: 0.1773 - val_loss: 0.4677 - val_accuracy: 0.7649 - val_mean_absolute_error: 0.3496 - val_mean_squared_error: 0.1748\n",
            "Epoch 6/50\n",
            "3785/3785 [==============================] - 200s 53ms/step - loss: 0.4481 - accuracy: 0.7789 - mean_absolute_error: 0.3447 - mean_squared_error: 0.1724 - val_loss: 0.4662 - val_accuracy: 0.7658 - val_mean_absolute_error: 0.3406 - val_mean_squared_error: 0.1704\n",
            "Epoch 7/50\n",
            "3785/3785 [==============================] - 201s 53ms/step - loss: 0.4380 - accuracy: 0.7861 - mean_absolute_error: 0.3367 - mean_squared_error: 0.1685 - val_loss: 0.4620 - val_accuracy: 0.7702 - val_mean_absolute_error: 0.3332 - val_mean_squared_error: 0.1668\n",
            "Epoch 8/50\n",
            "3785/3785 [==============================] - 203s 54ms/step - loss: 0.4294 - accuracy: 0.7921 - mean_absolute_error: 0.3298 - mean_squared_error: 0.1652 - val_loss: 0.4576 - val_accuracy: 0.7720 - val_mean_absolute_error: 0.3269 - val_mean_squared_error: 0.1638\n",
            "Epoch 9/50\n",
            "3785/3785 [==============================] - 202s 53ms/step - loss: 0.4215 - accuracy: 0.7978 - mean_absolute_error: 0.3239 - mean_squared_error: 0.1623 - val_loss: 0.4576 - val_accuracy: 0.7726 - val_mean_absolute_error: 0.3214 - val_mean_squared_error: 0.1611\n",
            "Epoch 10/50\n",
            "3785/3785 [==============================] - 202s 53ms/step - loss: 0.4151 - accuracy: 0.8013 - mean_absolute_error: 0.3189 - mean_squared_error: 0.1599 - val_loss: 0.4587 - val_accuracy: 0.7716 - val_mean_absolute_error: 0.3166 - val_mean_squared_error: 0.1588\n",
            "Epoch 11/50\n",
            "3785/3785 [==============================] - 202s 53ms/step - loss: 0.3849 - accuracy: 0.8197 - mean_absolute_error: 0.3138 - mean_squared_error: 0.1574 - val_loss: 0.4558 - val_accuracy: 0.7772 - val_mean_absolute_error: 0.3110 - val_mean_squared_error: 0.1561\n",
            "Epoch 12/50\n",
            "3785/3785 [==============================] - 201s 53ms/step - loss: 0.3782 - accuracy: 0.8234 - mean_absolute_error: 0.3083 - mean_squared_error: 0.1548 - val_loss: 0.4552 - val_accuracy: 0.7779 - val_mean_absolute_error: 0.3058 - val_mean_squared_error: 0.1536\n",
            "Epoch 13/50\n",
            "3785/3785 [==============================] - 200s 53ms/step - loss: 0.3739 - accuracy: 0.8261 - mean_absolute_error: 0.3035 - mean_squared_error: 0.1525 - val_loss: 0.4548 - val_accuracy: 0.7786 - val_mean_absolute_error: 0.3013 - val_mean_squared_error: 0.1515\n",
            "Epoch 14/50\n",
            "3785/3785 [==============================] - 203s 54ms/step - loss: 0.3715 - accuracy: 0.8274 - mean_absolute_error: 0.2992 - mean_squared_error: 0.1505 - val_loss: 0.4560 - val_accuracy: 0.7782 - val_mean_absolute_error: 0.2973 - val_mean_squared_error: 0.1496\n",
            "Epoch 15/50\n",
            "3785/3785 [==============================] - 202s 53ms/step - loss: 0.3687 - accuracy: 0.8287 - mean_absolute_error: 0.2954 - mean_squared_error: 0.1487 - val_loss: 0.4561 - val_accuracy: 0.7791 - val_mean_absolute_error: 0.2937 - val_mean_squared_error: 0.1479\n",
            "Epoch 16/50\n",
            "3785/3785 [==============================] - 202s 53ms/step - loss: 0.3639 - accuracy: 0.8320 - mean_absolute_error: 0.2920 - mean_squared_error: 0.1471 - val_loss: 0.4576 - val_accuracy: 0.7794 - val_mean_absolute_error: 0.2903 - val_mean_squared_error: 0.1463\n",
            "Epoch 17/50\n",
            "3785/3785 [==============================] - 202s 53ms/step - loss: 0.3639 - accuracy: 0.8318 - mean_absolute_error: 0.2888 - mean_squared_error: 0.1456 - val_loss: 0.4577 - val_accuracy: 0.7791 - val_mean_absolute_error: 0.2874 - val_mean_squared_error: 0.1449\n",
            "Epoch 18/50\n",
            "3785/3785 [==============================] - 203s 54ms/step - loss: 0.3632 - accuracy: 0.8324 - mean_absolute_error: 0.2860 - mean_squared_error: 0.1443 - val_loss: 0.4576 - val_accuracy: 0.7792 - val_mean_absolute_error: 0.2847 - val_mean_squared_error: 0.1437\n",
            "Epoch 19/50\n",
            "3785/3785 [==============================] - 201s 53ms/step - loss: 0.3627 - accuracy: 0.8327 - mean_absolute_error: 0.2835 - mean_squared_error: 0.1431 - val_loss: 0.4576 - val_accuracy: 0.7793 - val_mean_absolute_error: 0.2823 - val_mean_squared_error: 0.1425\n",
            "CPU times: user 54min 47s, sys: 2min 55s, total: 57min 42s\n",
            "Wall time: 1h 5min 22s\n"
          ],
          "name": "stdout"
        }
      ]
    },
    {
      "cell_type": "code",
      "metadata": {
        "id": "AaiVcocKGYaJ"
      },
      "source": [
        "import pickle\n",
        "with open(path + '/ModelsHistory/trainHistoryDict_Bi_LSTM_model_450users6', 'wb') as file_pi:\n",
        "  pickle.dump(history.history, file_pi)"
      ],
      "id": "AaiVcocKGYaJ",
      "execution_count": null,
      "outputs": []
    },
    {
      "cell_type": "code",
      "metadata": {
        "id": "5dbe0bc9"
      },
      "source": [
        "dl_model.load_weights(path + '/Models/Bi_LSTM_model_450users5.h6')"
      ],
      "id": "5dbe0bc9",
      "execution_count": null,
      "outputs": []
    },
    {
      "cell_type": "markdown",
      "metadata": {
        "id": "7aaa37f9"
      },
      "source": [
        "#### Training Results & Plots"
      ],
      "id": "7aaa37f9"
    },
    {
      "cell_type": "code",
      "metadata": {
        "id": "cfc79eca",
        "colab": {
          "base_uri": "https://localhost:8080/"
        },
        "outputId": "f66b16a3-2507-4aa2-9072-22c32708bbc5"
      },
      "source": [
        "print_model_scores(history, name=\"BiLSTM DL Model\")"
      ],
      "id": "cfc79eca",
      "execution_count": null,
      "outputs": [
        {
          "output_type": "stream",
          "text": [
            "=============== BiLSTM DL Model Training Scores ===============\n",
            "Model Average Training Accuracy: 0.7909265129189742\n",
            "Model Average Training Loss: 0.4249898242323022\n",
            "Model Average Training RMSE: 0.3327316484953228\n",
            "Model Average Training MSE: 0.1668785261480432\n",
            "=============== BiLSTM DL Model Validation Scores ===============\n",
            "Model Average Validation Accuracy: 0.7674347162246704\n",
            "Model Average Validation Loss: 0.4675305658265164\n",
            "Model Average Validation RMSE: 0.32698692773517807\n",
            "Model Average Validation MSE: 0.1640324106341914\n"
          ],
          "name": "stdout"
        }
      ]
    },
    {
      "cell_type": "code",
      "metadata": {
        "id": "e38ea1e0",
        "colab": {
          "base_uri": "https://localhost:8080/",
          "height": 1000
        },
        "outputId": "509c516a-7afe-42f2-ca6d-508527120b39"
      },
      "source": [
        "plot_model_results(history)"
      ],
      "id": "e38ea1e0",
      "execution_count": null,
      "outputs": [
        {
          "output_type": "display_data",
          "data": {
            "image/png": "[encoded data removed]",
            "text/plain": [
              "<Figure size 1800x1296 with 4 Axes>"
            ]
          },
          "metadata": {
            "tags": [],
            "needs_background": "light"
          }
        }
      ]
    },
    {
      "cell_type": "markdown",
      "metadata": {
        "id": "f28f0c0b"
      },
      "source": [
        "#### Predictions & Results"
      ],
      "id": "f28f0c0b"
    },
    {
      "cell_type": "code",
      "metadata": {
        "id": "cbddc33e"
      },
      "source": [
        "pred = dl_model.predict(X_test_dl)"
      ],
      "id": "cbddc33e",
      "execution_count": null,
      "outputs": []
    },
    {
      "cell_type": "code",
      "metadata": {
        "id": "f918fe57"
      },
      "source": [
        "predictions = [pred[i][0] for i in range(len(pred))]\n",
        "preds = [0 if p < 0.5 else 1 for p in predictions]"
      ],
      "id": "f918fe57",
      "execution_count": null,
      "outputs": []
    },
    {
      "cell_type": "code",
      "metadata": {
        "id": "43275c40",
        "colab": {
          "base_uri": "https://localhost:8080/"
        },
        "outputId": "23061733-2e8b-4fe7-bea3-414bca89fec4"
      },
      "source": [
        "print('model accuracy on test :',accuracy_score(y_test_dl,preds)*100)\n",
        "print(classification_report(y_test_dl,preds))"
      ],
      "id": "43275c40",
      "execution_count": null,
      "outputs": [
        {
          "output_type": "stream",
          "text": [
            "model accuracy on test : 77.85313793991587\n",
            "              precision    recall  f1-score   support\n",
            "\n",
            "           0       0.80      0.77      0.79     80400\n",
            "           1       0.75      0.79      0.77     71021\n",
            "\n",
            "    accuracy                           0.78    151421\n",
            "   macro avg       0.78      0.78      0.78    151421\n",
            "weighted avg       0.78      0.78      0.78    151421\n",
            "\n"
          ],
          "name": "stdout"
        }
      ]
    },
    {
      "cell_type": "code",
      "metadata": {
        "id": "95081906",
        "colab": {
          "base_uri": "https://localhost:8080/",
          "height": 647
        },
        "outputId": "29a25aab-2099-4cba-e5cc-9612e7c1e989"
      },
      "source": [
        "model_con_matrix(y_test_dl, preds, [\"Negative\", \"Positive\"])"
      ],
      "id": "95081906",
      "execution_count": null,
      "outputs": [
        {
          "output_type": "display_data",
          "data": {
            "image/png": "[encoded data removed]",
            "text/plain": [
              "<Figure size 1000x750 with 2 Axes>"
            ]
          },
          "metadata": {
            "tags": []
          }
        }
      ]
    },
    {
      "cell_type": "markdown",
      "metadata": {
        "id": "yR6qhxDLvvci"
      },
      "source": [
        "### **Classify Trends using DL model**"
      ],
      "id": "yR6qhxDLvvci"
    },
    {
      "cell_type": "markdown",
      "metadata": {
        "id": "kJhsrKba4yYc"
      },
      "source": [
        "**Reading the trend tweets file**"
      ],
      "id": "kJhsrKba4yYc"
    },
    {
      "cell_type": "code",
      "metadata": {
        "id": "APIaI4EtvuSy"
      },
      "source": [
        "dir_path = path + '/Trends_Tweets.csv'\n",
        "df_trends_to_classify = pd.read_csv(dir_path)"
      ],
      "id": "APIaI4EtvuSy",
      "execution_count": null,
      "outputs": []
    },
    {
      "cell_type": "code",
      "metadata": {
        "id": "A6KYfqcZy3r-"
      },
      "source": [
        "# Reading the trends list\n",
        "trends_text = []\n",
        "with open(path + \"/trends.txt\", 'r', encoding='utf8') as f:\n",
        "    trends_text = f.read().splitlines()\n",
        "    \n",
        "trends = []\n",
        "for t in trends_text:\n",
        "    t = t.split('\\t')\n",
        "    if len(t) < 3:\n",
        "        trends.append(t[1])\n",
        "    else:\n",
        "        trends.append(t[2])"
      ],
      "id": "A6KYfqcZy3r-",
      "execution_count": null,
      "outputs": []
    },
    {
      "cell_type": "markdown",
      "metadata": {
        "id": "BM-UERvA5BHs"
      },
      "source": [
        "**Taking the 5 Trends with the most amount of tweets**"
      ],
      "id": "BM-UERvA5BHs"
    },
    {
      "cell_type": "code",
      "metadata": {
        "id": "FVAfv96SzyMS"
      },
      "source": [
        "df_trend1 = df_trends_to_classify[df_trends_to_classify['text'].str.contains('למה_גדעון_התפטר_ב2014')].reset_index()\n",
        "df_trend2 = df_trends_to_classify[df_trends_to_classify['text'].str.contains('חוק יסוד')].reset_index()\n",
        "df_trend3 = df_trends_to_classify[df_trends_to_classify['text'].str.contains('מורשת נתניהו')].reset_index()\n",
        "df_trend4 = df_trends_to_classify[df_trends_to_classify['text'].str.contains('רק ביבי')].reset_index()\n",
        "df_trend5 = df_trends_to_classify[df_trends_to_classify['text'].str.contains('של הפרקליטות')].reset_index()\n",
        "\n",
        "df_trend1['Trend_name'] = ['למה_גדעון_התפטר_ב2014' for x in range(len(df_trend1))]\n",
        "df_trend2['Trend_name'] = ['חוק יסוד' for x in range(len(df_trend2))]\n",
        "df_trend3['Trend_name'] = ['מורשת נתניהו' for x in range(len(df_trend3))]\n",
        "df_trend4['Trend_name'] = ['רק ביבי' for x in range(len(df_trend4))]\n",
        "df_trend5['Trend_name'] = ['של הפרקליטות' for x in range(len(df_trend5))]\n",
        "\n",
        "#Merging them together\n",
        "df_5_trends = df_trend1\n",
        "df_5_trends = ((((df_5_trends.append(df_trend2, ignore_index=True)).append(df_trend3, ignore_index=True)).append(df_trend4, ignore_index=True)).append(df_trend5, ignore_index=True))"
      ],
      "id": "FVAfv96SzyMS",
      "execution_count": null,
      "outputs": []
    },
    {
      "cell_type": "code",
      "metadata": {
        "colab": {
          "base_uri": "https://localhost:8080/",
          "height": 847
        },
        "id": "G9_sG2UV4fgi",
        "outputId": "e5e47f4e-a433-466b-e4ac-c684bbde2cd8"
      },
      "source": [
        "df_5_trends"
      ],
      "id": "G9_sG2UV4fgi",
      "execution_count": null,
      "outputs": [
        {
          "output_type": "execute_result",
          "data": {
            "text/html": [
              "<div>\n",
              "<style scoped>\n",
              "    .dataframe tbody tr th:only-of-type {\n",
              "        vertical-align: middle;\n",
              "    }\n",
              "\n",
              "    .dataframe tbody tr th {\n",
              "        vertical-align: top;\n",
              "    }\n",
              "\n",
              "    .dataframe thead th {\n",
              "        text-align: right;\n",
              "    }\n",
              "</style>\n",
              "<table border=\"1\" class=\"dataframe\">\n",
              "  <thead>\n",
              "    <tr style=\"text-align: right;\">\n",
              "      <th></th>\n",
              "      <th>index</th>\n",
              "      <th>tweet_id</th>\n",
              "      <th>created_at</th>\n",
              "      <th>source</th>\n",
              "      <th>text</th>\n",
              "      <th>retweet_count</th>\n",
              "      <th>user_id</th>\n",
              "      <th>user_name</th>\n",
              "      <th>user_followers_count</th>\n",
              "      <th>user_friends_count</th>\n",
              "      <th>user_statuses_count</th>\n",
              "      <th>hashtags</th>\n",
              "      <th>reply_to_status_id_str</th>\n",
              "      <th>reply_to_user_id</th>\n",
              "      <th>Trend_name</th>\n",
              "    </tr>\n",
              "  </thead>\n",
              "  <tbody>\n",
              "    <tr>\n",
              "      <th>0</th>\n",
              "      <td>0</td>\n",
              "      <td>1409768853308162052</td>\n",
              "      <td>2021-06-29 07:01:01</td>\n",
              "      <td>Twitter Web App</td>\n",
              "      <td>חברים : כל אחד שמצייץ .. נא להוסיף בסוף הציוץ ...</td>\n",
              "      <td>19.0</td>\n",
              "      <td>892778092200067072</td>\n",
              "      <td>להפסיק לבכות ולהתחיל להלחם - הייטקיסט בן 38 ימני</td>\n",
              "      <td>1920</td>\n",
              "      <td>3423</td>\n",
              "      <td>9522</td>\n",
              "      <td>[{'text': 'למה_גדעון_התפטר_ב2014', 'indices': ...</td>\n",
              "      <td>NaN</td>\n",
              "      <td>NaN</td>\n",
              "      <td>למה_גדעון_התפטר_ב2014</td>\n",
              "    </tr>\n",
              "    <tr>\n",
              "      <th>1</th>\n",
              "      <td>1</td>\n",
              "      <td>1409769351385956352</td>\n",
              "      <td>2021-06-29 07:03:00</td>\n",
              "      <td>Twitter Web App</td>\n",
              "      <td>בוקר טוב לכולם !! #למה_גדעון_התפטר_ב2014</td>\n",
              "      <td>3.0</td>\n",
              "      <td>892778092200067072</td>\n",
              "      <td>להפסיק לבכות ולהתחיל להלחם - הייטקיסט בן 38 ימני</td>\n",
              "      <td>1920</td>\n",
              "      <td>3423</td>\n",
              "      <td>9522</td>\n",
              "      <td>[{'text': 'למה_גדעון_התפטר_ב2014', 'indices': ...</td>\n",
              "      <td>NaN</td>\n",
              "      <td>NaN</td>\n",
              "      <td>למה_גדעון_התפטר_ב2014</td>\n",
              "    </tr>\n",
              "    <tr>\n",
              "      <th>2</th>\n",
              "      <td>2</td>\n",
              "      <td>1409769893176676352</td>\n",
              "      <td>2021-06-29 07:05:09</td>\n",
              "      <td>Twitter for iPhone</td>\n",
              "      <td>rt @bibist_hitech: בוקר טוב לכולם !! #למה_גדעו...</td>\n",
              "      <td>3.0</td>\n",
              "      <td>340325107</td>\n",
              "      <td>Yoav Frank  האמת תנצח</td>\n",
              "      <td>3088</td>\n",
              "      <td>4140</td>\n",
              "      <td>15241</td>\n",
              "      <td>[{'text': 'למה_גדעון_התפטר_ב2014', 'indices': ...</td>\n",
              "      <td>NaN</td>\n",
              "      <td>NaN</td>\n",
              "      <td>למה_גדעון_התפטר_ב2014</td>\n",
              "    </tr>\n",
              "    <tr>\n",
              "      <th>3</th>\n",
              "      <td>3</td>\n",
              "      <td>1409769934373150722</td>\n",
              "      <td>2021-06-29 07:05:19</td>\n",
              "      <td>Twitter for iPhone</td>\n",
              "      <td>rt @bibist_hitech: חברים : כל אחד שמצייץ .. נא...</td>\n",
              "      <td>19.0</td>\n",
              "      <td>340325107</td>\n",
              "      <td>Yoav Frank  האמת תנצח</td>\n",
              "      <td>3088</td>\n",
              "      <td>4140</td>\n",
              "      <td>15241</td>\n",
              "      <td>[{'text': 'למה_גדעון_התפטר_ב2014', 'indices': ...</td>\n",
              "      <td>NaN</td>\n",
              "      <td>NaN</td>\n",
              "      <td>למה_גדעון_התפטר_ב2014</td>\n",
              "    </tr>\n",
              "    <tr>\n",
              "      <th>4</th>\n",
              "      <td>4</td>\n",
              "      <td>1409770384556281859</td>\n",
              "      <td>2021-06-29 07:07:06</td>\n",
              "      <td>Twitter for iPhone</td>\n",
              "      <td>rt @bibist_hitech: חברים : כל אחד שמצייץ .. נא...</td>\n",
              "      <td>19.0</td>\n",
              "      <td>1105767815968108545</td>\n",
              "      <td>Edencohen</td>\n",
              "      <td>381</td>\n",
              "      <td>401</td>\n",
              "      <td>32312</td>\n",
              "      <td>[{'text': 'למה_גדעון_התפטר_ב2014', 'indices': ...</td>\n",
              "      <td>NaN</td>\n",
              "      <td>NaN</td>\n",
              "      <td>למה_גדעון_התפטר_ב2014</td>\n",
              "    </tr>\n",
              "    <tr>\n",
              "      <th>...</th>\n",
              "      <td>...</td>\n",
              "      <td>...</td>\n",
              "      <td>...</td>\n",
              "      <td>...</td>\n",
              "      <td>...</td>\n",
              "      <td>...</td>\n",
              "      <td>...</td>\n",
              "      <td>...</td>\n",
              "      <td>...</td>\n",
              "      <td>...</td>\n",
              "      <td>...</td>\n",
              "      <td>...</td>\n",
              "      <td>...</td>\n",
              "      <td>...</td>\n",
              "      <td>...</td>\n",
              "    </tr>\n",
              "    <tr>\n",
              "      <th>6332</th>\n",
              "      <td>49607</td>\n",
              "      <td>1418473092674957315</td>\n",
              "      <td>2021-07-23 07:28:33</td>\n",
              "      <td>Twitter for Android</td>\n",
              "      <td>@who_are_yoooo @tsur_ben 2020-11-29  אני מזדהה...</td>\n",
              "      <td>0.0</td>\n",
              "      <td>706107275203747840</td>\n",
              "      <td>שוקי משעול</td>\n",
              "      <td>2403</td>\n",
              "      <td>530</td>\n",
              "      <td>15077</td>\n",
              "      <td>[]</td>\n",
              "      <td>1.418469e+18</td>\n",
              "      <td>2.269608e+08</td>\n",
              "      <td>של הפרקליטות</td>\n",
              "    </tr>\n",
              "    <tr>\n",
              "      <th>6333</th>\n",
              "      <td>49608</td>\n",
              "      <td>1418473232374673409</td>\n",
              "      <td>2021-07-23 07:29:07</td>\n",
              "      <td>Twitter Web App</td>\n",
              "      <td>@guygoldzwig @levyguy77 @drnirdagan 1) ביטול ה...</td>\n",
              "      <td>0.0</td>\n",
              "      <td>1243829763808075776</td>\n",
              "      <td>ThisAndThat</td>\n",
              "      <td>298</td>\n",
              "      <td>593</td>\n",
              "      <td>20016</td>\n",
              "      <td>[]</td>\n",
              "      <td>1.418411e+18</td>\n",
              "      <td>1.207038e+18</td>\n",
              "      <td>של הפרקליטות</td>\n",
              "    </tr>\n",
              "    <tr>\n",
              "      <th>6334</th>\n",
              "      <td>49612</td>\n",
              "      <td>1418476135147581440</td>\n",
              "      <td>2021-07-23 07:40:39</td>\n",
              "      <td>Twitter Web App</td>\n",
              "      <td>@ynetalerts עושה דברה של הפרקליטות. עבד.</td>\n",
              "      <td>0.0</td>\n",
              "      <td>2521499466</td>\n",
              "      <td>Ori Lev</td>\n",
              "      <td>105</td>\n",
              "      <td>255</td>\n",
              "      <td>885</td>\n",
              "      <td>[]</td>\n",
              "      <td>1.418458e+18</td>\n",
              "      <td>3.347385e+07</td>\n",
              "      <td>של הפרקליטות</td>\n",
              "    </tr>\n",
              "    <tr>\n",
              "      <th>6335</th>\n",
              "      <td>49620</td>\n",
              "      <td>1418490388885671936</td>\n",
              "      <td>2021-07-23 08:37:17</td>\n",
              "      <td>Twitter for iPhone</td>\n",
              "      <td>@aviadglickman @gidonsaar וקלדנית חלולה של הפר...</td>\n",
              "      <td>0.0</td>\n",
              "      <td>1288013422123274241</td>\n",
              "      <td>moshe kazan</td>\n",
              "      <td>102</td>\n",
              "      <td>147</td>\n",
              "      <td>1725</td>\n",
              "      <td>[]</td>\n",
              "      <td>1.418490e+18</td>\n",
              "      <td>3.089415e+09</td>\n",
              "      <td>של הפרקליטות</td>\n",
              "    </tr>\n",
              "    <tr>\n",
              "      <th>6336</th>\n",
              "      <td>49622</td>\n",
              "      <td>1418491173891608578</td>\n",
              "      <td>2021-07-23 08:40:24</td>\n",
              "      <td>Twitter for Android</td>\n",
              "      <td>@igal_malka 2020-11-29  אני מזדהה ומאמין לראש ...</td>\n",
              "      <td>0.0</td>\n",
              "      <td>706107275203747840</td>\n",
              "      <td>שוקי משעול</td>\n",
              "      <td>2403</td>\n",
              "      <td>530</td>\n",
              "      <td>15077</td>\n",
              "      <td>[]</td>\n",
              "      <td>1.418490e+18</td>\n",
              "      <td>3.094329e+09</td>\n",
              "      <td>של הפרקליטות</td>\n",
              "    </tr>\n",
              "  </tbody>\n",
              "</table>\n",
              "<p>6337 rows × 15 columns</p>\n",
              "</div>"
            ],
            "text/plain": [
              "      index             tweet_id  ... reply_to_user_id             Trend_name\n",
              "0         0  1409768853308162052  ...              NaN  למה_גדעון_התפטר_ב2014\n",
              "1         1  1409769351385956352  ...              NaN  למה_גדעון_התפטר_ב2014\n",
              "2         2  1409769893176676352  ...              NaN  למה_גדעון_התפטר_ב2014\n",
              "3         3  1409769934373150722  ...              NaN  למה_גדעון_התפטר_ב2014\n",
              "4         4  1409770384556281859  ...              NaN  למה_גדעון_התפטר_ב2014\n",
              "...     ...                  ...  ...              ...                    ...\n",
              "6332  49607  1418473092674957315  ...     2.269608e+08           של הפרקליטות\n",
              "6333  49608  1418473232374673409  ...     1.207038e+18           של הפרקליטות\n",
              "6334  49612  1418476135147581440  ...     3.347385e+07           של הפרקליטות\n",
              "6335  49620  1418490388885671936  ...     3.089415e+09           של הפרקליטות\n",
              "6336  49622  1418491173891608578  ...     3.094329e+09           של הפרקליטות\n",
              "\n",
              "[6337 rows x 15 columns]"
            ]
          },
          "metadata": {
            "tags": []
          },
          "execution_count": 45
        }
      ]
    },
    {
      "cell_type": "markdown",
      "metadata": {
        "id": "zFfEayKl6h85"
      },
      "source": [
        "**Preparing the trends data for our DL Model**"
      ],
      "id": "zFfEayKl6h85"
    },
    {
      "cell_type": "code",
      "metadata": {
        "id": "9-jmRWRKvump"
      },
      "source": [
        "#Punctuation removal\n",
        "df_5_trends['text'] = df_5_trends['text'].apply(remove_punctuations)"
      ],
      "id": "9-jmRWRKvump",
      "execution_count": null,
      "outputs": []
    },
    {
      "cell_type": "code",
      "metadata": {
        "id": "Oc84M6CmxTFc"
      },
      "source": [
        "df_5_trends = df_5_trends.fillna(\"_na_\")\n",
        "tokenizer = Tokenizer(num_words=max_features, lower=False)\n",
        "tokenizer.fit_on_texts(list(df_5_trends['text']))"
      ],
      "id": "Oc84M6CmxTFc",
      "execution_count": null,
      "outputs": []
    },
    {
      "cell_type": "code",
      "metadata": {
        "id": "EngyYgZXxTFl"
      },
      "source": [
        "tokens_corpus = pd.DataFrame()\n",
        "tokens_corpus['text'] = df_5_trends['text']\n",
        "tokens_corpus.text = tokenizer.texts_to_sequences(tokens_corpus.text)"
      ],
      "id": "EngyYgZXxTFl",
      "execution_count": null,
      "outputs": []
    },
    {
      "cell_type": "code",
      "metadata": {
        "colab": {
          "base_uri": "https://localhost:8080/",
          "height": 204
        },
        "id": "GQMIbJvnxTFm",
        "outputId": "185a6031-4f84-4c14-f197-f6ad26481085"
      },
      "source": [
        "# Data padding according to the var maxlen\n",
        "tokens_corpus.text = data_padding(tokens_corpus, by_col='text', maxlen=maxlen)\n",
        "tokens_corpus.head()"
      ],
      "id": "GQMIbJvnxTFm",
      "execution_count": null,
      "outputs": [
        {
          "output_type": "execute_result",
          "data": {
            "text/html": [
              "<div>\n",
              "<style scoped>\n",
              "    .dataframe tbody tr th:only-of-type {\n",
              "        vertical-align: middle;\n",
              "    }\n",
              "\n",
              "    .dataframe tbody tr th {\n",
              "        vertical-align: top;\n",
              "    }\n",
              "\n",
              "    .dataframe thead th {\n",
              "        text-align: right;\n",
              "    }\n",
              "</style>\n",
              "<table border=\"1\" class=\"dataframe\">\n",
              "  <thead>\n",
              "    <tr style=\"text-align: right;\">\n",
              "      <th></th>\n",
              "      <th>text</th>\n",
              "    </tr>\n",
              "  </thead>\n",
              "  <tbody>\n",
              "    <tr>\n",
              "      <th>0</th>\n",
              "      <td>[144, 24, 54, 812, 793, 309, 422, 536, 35, 589...</td>\n",
              "    </tr>\n",
              "    <tr>\n",
              "      <th>1</th>\n",
              "      <td>[631, 133, 1506, 1, 2, 3, 4, 0, 0, 0, 0, 0, 0,...</td>\n",
              "    </tr>\n",
              "    <tr>\n",
              "      <th>2</th>\n",
              "      <td>[5, 44, 45, 631, 133, 1506, 1, 2, 3, 4, 0, 0, ...</td>\n",
              "    </tr>\n",
              "    <tr>\n",
              "      <th>3</th>\n",
              "      <td>[5, 44, 45, 144, 24, 54, 812, 793, 309, 422, 5...</td>\n",
              "    </tr>\n",
              "    <tr>\n",
              "      <th>4</th>\n",
              "      <td>[5, 44, 45, 144, 24, 54, 812, 793, 309, 422, 5...</td>\n",
              "    </tr>\n",
              "  </tbody>\n",
              "</table>\n",
              "</div>"
            ],
            "text/plain": [
              "                                                text\n",
              "0  [144, 24, 54, 812, 793, 309, 422, 536, 35, 589...\n",
              "1  [631, 133, 1506, 1, 2, 3, 4, 0, 0, 0, 0, 0, 0,...\n",
              "2  [5, 44, 45, 631, 133, 1506, 1, 2, 3, 4, 0, 0, ...\n",
              "3  [5, 44, 45, 144, 24, 54, 812, 793, 309, 422, 5...\n",
              "4  [5, 44, 45, 144, 24, 54, 812, 793, 309, 422, 5..."
            ]
          },
          "metadata": {
            "tags": []
          },
          "execution_count": 49
        }
      ]
    },
    {
      "cell_type": "markdown",
      "metadata": {
        "id": "GomxWkQX6qC4"
      },
      "source": [
        "**Predicting political stance for each tweet**"
      ],
      "id": "GomxWkQX6qC4"
    },
    {
      "cell_type": "code",
      "metadata": {
        "id": "33k98U3C5yB0"
      },
      "source": [
        "t_test = np.array(list(x for x in tokens_corpus['text'].values))\n",
        "pred = dl_model.predict(t_test)"
      ],
      "id": "33k98U3C5yB0",
      "execution_count": null,
      "outputs": []
    },
    {
      "cell_type": "code",
      "metadata": {
        "id": "9e1c6T_H5yCG"
      },
      "source": [
        "predictions = [pred[i][0] for i in range(len(pred))]\n",
        "preds = [0 if p < 0.5 else 1 for p in predictions]"
      ],
      "id": "9e1c6T_H5yCG",
      "execution_count": null,
      "outputs": []
    },
    {
      "cell_type": "code",
      "metadata": {
        "id": "qD57Kh_JvuvY"
      },
      "source": [
        "df_5_trends['Prediction'] = preds"
      ],
      "id": "qD57Kh_JvuvY",
      "execution_count": null,
      "outputs": []
    },
    {
      "cell_type": "markdown",
      "metadata": {
        "id": "UVvWqXge6wcQ"
      },
      "source": [
        "**Plotting the results**"
      ],
      "id": "UVvWqXge6wcQ"
    },
    {
      "cell_type": "code",
      "metadata": {
        "id": "XBozWuXOxV0x"
      },
      "source": [
        "df_trends_grouped_sum = df_5_trends.groupby(by='Trend_name')['Prediction'].sum()\n",
        "df_trends_grouped_count = df_5_trends.groupby(by='Trend_name')['Prediction'].count()"
      ],
      "id": "XBozWuXOxV0x",
      "execution_count": null,
      "outputs": []
    },
    {
      "cell_type": "code",
      "metadata": {
        "id": "QJxn9RYJxV-F"
      },
      "source": [
        "df_trends_right = df_trends_grouped_count-df_trends_grouped_sum\n",
        "df_trends_left = df_trends_grouped_sum"
      ],
      "id": "QJxn9RYJxV-F",
      "execution_count": null,
      "outputs": []
    },
    {
      "cell_type": "code",
      "metadata": {
        "colab": {
          "base_uri": "https://localhost:8080/"
        },
        "id": "YCtgF-G38Cuh",
        "outputId": "d3ea9d08-4f37-45a4-a085-f89adfe983bd"
      },
      "source": [
        "!pip install python-bidi\n",
        "from bidi import algorithm as bidialg\n",
        "y_labels = ['חוק יסוד', 'למה_גדעון_התפטר_ב2014', 'מורשת נתניהו', 'רק ביבי', 'של הפרקליטות']\n",
        "y_labels = [bidialg.get_display(x) for x in y_labels]"
      ],
      "id": "YCtgF-G38Cuh",
      "execution_count": null,
      "outputs": [
        {
          "output_type": "stream",
          "text": [
            "Requirement already satisfied: python-bidi in /usr/local/lib/python3.7/dist-packages (0.4.2)\n",
            "Requirement already satisfied: six in /usr/local/lib/python3.7/dist-packages (from python-bidi) (1.15.0)\n"
          ],
          "name": "stdout"
        }
      ]
    },
    {
      "cell_type": "code",
      "metadata": {
        "id": "obXJsHQz8Cqn"
      },
      "source": [
        "right_5_trends = df_trends_right.values\n",
        "left_5_trends = df_trends_left.values"
      ],
      "id": "obXJsHQz8Cqn",
      "execution_count": null,
      "outputs": []
    },
    {
      "cell_type": "code",
      "metadata": {
        "colab": {
          "base_uri": "https://localhost:8080/",
          "height": 582
        },
        "id": "hbyjLY0h8Cyd",
        "outputId": "8f372b5b-92aa-4794-e183-f4bb97b2655d"
      },
      "source": [
        "plt.figure(figsize=(12, 8))\n",
        "plt.title(\"Political Stance Prediction on Trends\")\n",
        "x = np.arange(len(right_5_trends))\n",
        "plt.barh(x, right_5_trends, .2, label='Right Wing', color='pink')\n",
        "plt.barh(x + .2, left_5_trends, .2, label='Left Wing', color='blue')\n",
        "plt.yticks(x, y_labels)\n",
        "plt.legend(loc='best')\n",
        "plt.subplots_adjust(left=.25)\n",
        "plt.subplots_adjust(top=.95)\n",
        "plt.subplots_adjust(bottom=.05)"
      ],
      "id": "hbyjLY0h8Cyd",
      "execution_count": null,
      "outputs": [
        {
          "output_type": "display_data",
          "data": {
            "image/png": "[encoded data removed]",
            "text/plain": [
              "<Figure size 864x576 with 1 Axes>"
            ]
          },
          "metadata": {
            "tags": []
          }
        }
      ]
    },
    {
      "cell_type": "markdown",
      "metadata": {
        "id": "45frvs9oGB50"
      },
      "source": [
        "### **Classify Tweets of New Users**"
      ],
      "id": "45frvs9oGB50"
    },
    {
      "cell_type": "markdown",
      "metadata": {
        "id": "gBB_IWTt64yq"
      },
      "source": [
        "**Reading the data**\n"
      ],
      "id": "gBB_IWTt64yq"
    },
    {
      "cell_type": "code",
      "metadata": {
        "id": "6NrvgBIHxWB-"
      },
      "source": [
        "new_users_path = path + '/New_Users_Tweets.csv'\n",
        "df_new_users = pd.read_csv(new_users_path)"
      ],
      "id": "6NrvgBIHxWB-",
      "execution_count": null,
      "outputs": []
    },
    {
      "cell_type": "markdown",
      "metadata": {
        "id": "8LTG0end7A6a"
      },
      "source": [
        "**Preparing the data for our DL Model**"
      ],
      "id": "8LTG0end7A6a"
    },
    {
      "cell_type": "code",
      "metadata": {
        "id": "Ves-6G09HPib"
      },
      "source": [
        "df_new_users['text'] = df_new_users['text'].apply(remove_punctuations)"
      ],
      "id": "Ves-6G09HPib",
      "execution_count": null,
      "outputs": []
    },
    {
      "cell_type": "code",
      "metadata": {
        "id": "6xyY1Kc0HPir"
      },
      "source": [
        "df_new_users = df_new_users.fillna(\"_na_\")\n",
        "tokenizer = Tokenizer(num_words=max_features, lower=False)\n",
        "tokenizer.fit_on_texts(list(df_new_users['text']))"
      ],
      "id": "6xyY1Kc0HPir",
      "execution_count": null,
      "outputs": []
    },
    {
      "cell_type": "code",
      "metadata": {
        "id": "XHJYiXwRHPis"
      },
      "source": [
        "tokens_corpus_new_users = pd.DataFrame()\n",
        "tokens_corpus_new_users['text'] = df_new_users['text']\n",
        "tokens_corpus_new_users.text = tokenizer.texts_to_sequences(tokens_corpus_new_users.text)"
      ],
      "id": "XHJYiXwRHPis",
      "execution_count": null,
      "outputs": []
    },
    {
      "cell_type": "code",
      "metadata": {
        "colab": {
          "base_uri": "https://localhost:8080/",
          "height": 204
        },
        "id": "Q2ntnz2xHPiu",
        "outputId": "f719e329-3c7d-4d1c-c195-e673377ba9bf"
      },
      "source": [
        "# Data padding according to the var maxlen\n",
        "tokens_corpus_new_users.text = data_padding(tokens_corpus_new_users, by_col='text', maxlen=maxlen)\n",
        "tokens_corpus_new_users.head()"
      ],
      "id": "Q2ntnz2xHPiu",
      "execution_count": null,
      "outputs": [
        {
          "output_type": "execute_result",
          "data": {
            "text/html": [
              "<div>\n",
              "<style scoped>\n",
              "    .dataframe tbody tr th:only-of-type {\n",
              "        vertical-align: middle;\n",
              "    }\n",
              "\n",
              "    .dataframe tbody tr th {\n",
              "        vertical-align: top;\n",
              "    }\n",
              "\n",
              "    .dataframe thead th {\n",
              "        text-align: right;\n",
              "    }\n",
              "</style>\n",
              "<table border=\"1\" class=\"dataframe\">\n",
              "  <thead>\n",
              "    <tr style=\"text-align: right;\">\n",
              "      <th></th>\n",
              "      <th>text</th>\n",
              "    </tr>\n",
              "  </thead>\n",
              "  <tbody>\n",
              "    <tr>\n",
              "      <th>0</th>\n",
              "      <td>[14230, 275, 95, 8, 3019, 17, 8716, 0, 0, 0, 0...</td>\n",
              "    </tr>\n",
              "    <tr>\n",
              "      <th>1</th>\n",
              "      <td>[14230, 275, 247, 4969, 14231, 8717, 1729, 33,...</td>\n",
              "    </tr>\n",
              "    <tr>\n",
              "      <th>2</th>\n",
              "      <td>[10727, 1542, 275, 2074, 94, 729, 4474, 1339, ...</td>\n",
              "    </tr>\n",
              "    <tr>\n",
              "      <th>3</th>\n",
              "      <td>[10731, 21466, 256, 21467, 21468, 730, 21469, ...</td>\n",
              "    </tr>\n",
              "    <tr>\n",
              "      <th>4</th>\n",
              "      <td>[10726, 10727, 1542, 275, 19, 1881, 21470, 553...</td>\n",
              "    </tr>\n",
              "  </tbody>\n",
              "</table>\n",
              "</div>"
            ],
            "text/plain": [
              "                                                text\n",
              "0  [14230, 275, 95, 8, 3019, 17, 8716, 0, 0, 0, 0...\n",
              "1  [14230, 275, 247, 4969, 14231, 8717, 1729, 33,...\n",
              "2  [10727, 1542, 275, 2074, 94, 729, 4474, 1339, ...\n",
              "3  [10731, 21466, 256, 21467, 21468, 730, 21469, ...\n",
              "4  [10726, 10727, 1542, 275, 19, 1881, 21470, 553..."
            ]
          },
          "metadata": {
            "tags": []
          },
          "execution_count": 88
        }
      ]
    },
    {
      "cell_type": "markdown",
      "metadata": {
        "id": "mHVmxZKZ7IeW"
      },
      "source": [
        "**Predicting political stance for each tweet**"
      ],
      "id": "mHVmxZKZ7IeW"
    },
    {
      "cell_type": "code",
      "metadata": {
        "id": "qRRhKMelHPiv"
      },
      "source": [
        "new_users_test = np.array(list(x for x in tokens_corpus_new_users['text'].values))\n",
        "pred = dl_model.predict(new_users_test)"
      ],
      "id": "qRRhKMelHPiv",
      "execution_count": null,
      "outputs": []
    },
    {
      "cell_type": "code",
      "metadata": {
        "id": "AGIvgIwuHPiw"
      },
      "source": [
        "predictions = [pred[i][0] for i in range(len(pred))]\n",
        "preds = [0 if p < 0.5 else 1 for p in predictions]"
      ],
      "id": "AGIvgIwuHPiw",
      "execution_count": null,
      "outputs": []
    },
    {
      "cell_type": "code",
      "metadata": {
        "id": "BPTrjHo3HPiw"
      },
      "source": [
        "df_new_users['Prediction'] = preds"
      ],
      "id": "BPTrjHo3HPiw",
      "execution_count": null,
      "outputs": []
    },
    {
      "cell_type": "markdown",
      "metadata": {
        "id": "zGIPsBoz7NLa"
      },
      "source": [
        "**Plotting the results**"
      ],
      "id": "zGIPsBoz7NLa"
    },
    {
      "cell_type": "code",
      "metadata": {
        "id": "St4qAHEzHPiw"
      },
      "source": [
        "df_pred_sum = df_new_users.groupby(by='user_name')['Prediction'].sum()\n",
        "df_pred_count = df_new_users.groupby(by='user_name')['Prediction'].count()"
      ],
      "id": "St4qAHEzHPiw",
      "execution_count": null,
      "outputs": []
    },
    {
      "cell_type": "code",
      "metadata": {
        "id": "0jNNH_MtHPix"
      },
      "source": [
        "df_pred_right = df_pred_count-df_pred_sum\n",
        "df_pred_left = df_pred_sum"
      ],
      "id": "0jNNH_MtHPix",
      "execution_count": null,
      "outputs": []
    },
    {
      "cell_type": "code",
      "metadata": {
        "id": "kTddkQvIHPix"
      },
      "source": [
        "y_labels = [\n",
        "'fridatuito',\n",
        "'NadavMD1980',\n",
        "'BtOsnat',\n",
        "'SigalBagstevold',\n",
        "'yossisoffer1',\n",
        "'shimonco1',\n",
        "'AdelDavid12',\n",
        "'Miriambendavid',\n",
        "'dsO5lr112iEHL4o-Daniel',\n",
        "'VBbZCYJbsobJtIJ-HaimLevi']"
      ],
      "id": "kTddkQvIHPix",
      "execution_count": null,
      "outputs": []
    },
    {
      "cell_type": "code",
      "metadata": {
        "id": "XHl9I6rgHPiy"
      },
      "source": [
        "right_new_users = df_pred_right.values\n",
        "left_new_users = df_pred_left.values"
      ],
      "id": "XHl9I6rgHPiy",
      "execution_count": null,
      "outputs": []
    },
    {
      "cell_type": "code",
      "metadata": {
        "colab": {
          "base_uri": "https://localhost:8080/",
          "height": 600
        },
        "id": "WrOmyM8uHPiy",
        "outputId": "dbf7d5ae-7488-4b6b-96bf-20ff36cb7a7b"
      },
      "source": [
        "plt.figure(figsize=(12, 8))\n",
        "plt.title(\"Classifying Political Stance of Users Based on their Tweets\")\n",
        "x = np.arange(len(right_new_users))\n",
        "plt.barh(x, right_new_users, .2, label='Right Wing', color='red')\n",
        "plt.barh(x + .2, left_new_users, .2, label='Left Wing', color='blue')\n",
        "plt.yticks(x, y_labels, color=\"red\")\n",
        "plt.gca().get_yticklabels()[0].set_color(\"blue\")\n",
        "plt.gca().get_yticklabels()[1].set_color(\"blue\")\n",
        "plt.gca().get_yticklabels()[4].set_color(\"blue\")\n",
        "plt.gca().get_yticklabels()[7].set_color(\"blue\")\n",
        "plt.gca().get_yticklabels()[9].set_color(\"blue\")\n",
        "plt.legend(loc='best')\n",
        "plt.subplots_adjust(left=.25)\n",
        "plt.subplots_adjust(top=.95)\n",
        "plt.subplots_adjust(bottom=.05)"
      ],
      "id": "WrOmyM8uHPiy",
      "execution_count": null,
      "outputs": [
        {
          "output_type": "display_data",
          "data": {
            "image/png": "[encoded data removed]",
            "text/plain": [
              "<Figure size 864x576 with 1 Axes>"
            ]
          },
          "metadata": {
            "tags": [],
            "needs_background": "light"
          }
        }
      ]
    },
    {
      "cell_type": "code",
      "metadata": {
        "id": "C393UAVJGA9c"
      },
      "source": [
        ""
      ],
      "id": "C393UAVJGA9c",
      "execution_count": null,
      "outputs": []
    },
    {
      "cell_type": "markdown",
      "metadata": {
        "id": "a600f86b"
      },
      "source": [
        "### <b> Building the BERT model </b>"
      ],
      "id": "a600f86b"
    },
    {
      "cell_type": "code",
      "metadata": {
        "id": "820d1b51"
      },
      "source": [
        "df_t = df[df['class'] == 0]\n",
        "df_t2 = df[df['class'] == 1]\n",
        "\n",
        "df_t = df_t.sample(100_000)\n",
        "df_t2 = df_t2.sample(100_000)\n",
        "df_100_000 = df_t.append(df_t2)\n",
        "df_rest = pd.concat([df, df_100_000, df_100_000]).drop_duplicates(keep=False)\n",
        "\n",
        "df_100_000.to_csv(path + '/bert_samples_100000.csv', index = False, header = True)\n",
        "df_rest.to_csv(path + '/bert_rest_data.csv', index=False, header=True)\n",
        "\n",
        "df = df_100_000\n",
        "\n",
        "print(df['class'].value_counts())\n",
        "_ = plt.figure(figsize=(3,3))\n",
        "_ = plt.bar(x=['Positive', 'Negative'], height=df['class'].value_counts(), width=0.4)\n",
        "plt.show()"
      ],
      "id": "820d1b51",
      "execution_count": null,
      "outputs": []
    },
    {
      "cell_type": "code",
      "metadata": {
        "id": "p8Z9Js5vSMNi"
      },
      "source": [
        "!pip install transformers"
      ],
      "id": "p8Z9Js5vSMNi",
      "execution_count": null,
      "outputs": []
    },
    {
      "cell_type": "code",
      "metadata": {
        "id": "63fd8a43"
      },
      "source": [
        "import torch\n",
        "import torch.nn as nn\n",
        "from sklearn.metrics import classification_report\n",
        "import transformers\n",
        "from transformers import AutoModel, BertTokenizerFast\n",
        "from torch.utils.data import TensorDataset, DataLoader, RandomSampler, SequentialSampler"
      ],
      "id": "63fd8a43",
      "execution_count": null,
      "outputs": []
    },
    {
      "cell_type": "code",
      "metadata": {
        "id": "7284ccf5"
      },
      "source": [
        "# specify GPU\n",
        "device = torch.device(\"cuda\") if torch.cuda.is_available() else torch.device(\"cpu\")\n",
        "device"
      ],
      "id": "7284ccf5",
      "execution_count": null,
      "outputs": []
    },
    {
      "cell_type": "code",
      "metadata": {
        "id": "eff95b32"
      },
      "source": [
        "# import BERT-base pretrained model\n",
        "bert = AutoModel.from_pretrained('bert-base-uncased')\n",
        "\n",
        "# Load the BERT tokenizer\n",
        "tokenizer = BertTokenizerFast.from_pretrained('bert-base-uncased')"
      ],
      "id": "eff95b32",
      "execution_count": null,
      "outputs": []
    },
    {
      "cell_type": "code",
      "metadata": {
        "id": "566d351e"
      },
      "source": [
        "df = pd.read_csv(path+'/bert_rest_data.csv')"
      ],
      "id": "566d351e",
      "execution_count": null,
      "outputs": []
    },
    {
      "cell_type": "code",
      "metadata": {
        "id": "zYrjpChMAOAW"
      },
      "source": [
        "# NA Values\n",
        "df = df.drop([df.index[81365], df.index[81366]])"
      ],
      "id": "zYrjpChMAOAW",
      "execution_count": null,
      "outputs": []
    },
    {
      "cell_type": "code",
      "metadata": {
        "id": "4ee55467"
      },
      "source": [
        "df['class'] = df['class'].astype(np.int)"
      ],
      "id": "4ee55467",
      "execution_count": null,
      "outputs": []
    },
    {
      "cell_type": "code",
      "metadata": {
        "id": "565f9c6e"
      },
      "source": [
        "df = df.fillna(\"_na_\")\n",
        "train_text, temp_text, train_labels, temp_labels = train_test_split(df['text'], df['class'], \n",
        "                                                                    random_state=2021, \n",
        "                                                                    test_size=0.3, \n",
        "                                                                    stratify=df['class'])\n",
        "\n",
        "# we will use temp_text and temp_labels to create validation and test set\n",
        "val_text, test_text, val_labels, test_labels = train_test_split(temp_text, temp_labels, \n",
        "                                                                random_state=2021, \n",
        "                                                                test_size=0.5, \n",
        "                                                                stratify=temp_labels)"
      ],
      "id": "565f9c6e",
      "execution_count": null,
      "outputs": []
    },
    {
      "cell_type": "code",
      "metadata": {
        "id": "182d9bc2"
      },
      "source": [
        "# del train_text, temp_text, train_labels, temp_labels, val_text, val_labels\n",
        "df = df.fillna(\"_na_\")\n",
        "test_text = df['text']\n",
        "test_labels = df['class']"
      ],
      "id": "182d9bc2",
      "execution_count": null,
      "outputs": []
    },
    {
      "cell_type": "code",
      "metadata": {
        "id": "2bb73307"
      },
      "source": [
        "# get length of all the messages in the train set\n",
        "seq_len = [len(i.split()) for i in train_text]\n",
        "\n",
        "pd.Series(seq_len).hist(bins = 30)"
      ],
      "id": "2bb73307",
      "execution_count": null,
      "outputs": []
    },
    {
      "cell_type": "code",
      "metadata": {
        "id": "d769bea2"
      },
      "source": [
        "# tokenize and encode sequences in the training set\n",
        "tokens_train = tokenizer.batch_encode_plus(\n",
        "    train_text.tolist(),\n",
        "    max_length = maxlen,\n",
        "    pad_to_max_length=True,\n",
        "    truncation=True,\n",
        "    return_token_type_ids=False\n",
        ")\n",
        "\n",
        "# tokenize and encode sequences in the validation set\n",
        "tokens_val = tokenizer.batch_encode_plus(\n",
        "    val_text.tolist(),\n",
        "    max_length = maxlen,\n",
        "    pad_to_max_length=True,\n",
        "    truncation=True,\n",
        "    return_token_type_ids=False\n",
        ")\n",
        "\n",
        "#tokenize and encode sequences in the test set\n",
        "tokens_test = tokenizer.batch_encode_plus(\n",
        "    test_text.tolist(),\n",
        "    max_length = maxlen,\n",
        "    pad_to_max_length=True,\n",
        "    truncation=True,\n",
        "    return_token_type_ids=False\n",
        ")"
      ],
      "id": "d769bea2",
      "execution_count": null,
      "outputs": []
    },
    {
      "cell_type": "markdown",
      "metadata": {
        "id": "9c651119"
      },
      "source": [
        "#### Convert Integer Sequences to Tensors"
      ],
      "id": "9c651119"
    },
    {
      "cell_type": "code",
      "metadata": {
        "id": "dde7bc16"
      },
      "source": [
        "# for train set\n",
        "train_seq = torch.tensor(tokens_train['input_ids'])\n",
        "train_mask = torch.tensor(tokens_train['attention_mask'])\n",
        "train_y = torch.tensor(train_labels.tolist())\n",
        "\n",
        "# for validation set\n",
        "val_seq = torch.tensor(tokens_val['input_ids'])\n",
        "val_mask = torch.tensor(tokens_val['attention_mask'])\n",
        "val_y = torch.tensor(val_labels.tolist())\n",
        "\n",
        "# for test set\n",
        "test_seq = torch.tensor(tokens_test['input_ids'])\n",
        "test_mask = torch.tensor(tokens_test['attention_mask'])\n",
        "test_y = torch.tensor(test_labels.tolist())"
      ],
      "id": "dde7bc16",
      "execution_count": null,
      "outputs": []
    },
    {
      "cell_type": "markdown",
      "metadata": {
        "id": "404e54dd"
      },
      "source": [
        "#### Create DataLoaders"
      ],
      "id": "404e54dd"
    },
    {
      "cell_type": "code",
      "metadata": {
        "id": "4e68f7e5"
      },
      "source": [
        "\n",
        "# wrap tensors\n",
        "train_data = TensorDataset(train_seq, train_mask, train_y)\n",
        "\n",
        "# sampler for sampling the data during training\n",
        "train_sampler = RandomSampler(train_data)\n",
        "\n",
        "# dataLoader for train set\n",
        "train_dataloader = DataLoader(train_data, sampler=train_sampler, batch_size=batch_size)\n",
        "\n",
        "# wrap tensors\n",
        "val_data = TensorDataset(val_seq, val_mask, val_y)\n",
        "\n",
        "# sampler for sampling the data during training\n",
        "val_sampler = SequentialSampler(val_data)\n",
        "\n",
        "# dataLoader for validation set\n",
        "val_dataloader = DataLoader(val_data, sampler = val_sampler, batch_size=batch_size)"
      ],
      "id": "4e68f7e5",
      "execution_count": null,
      "outputs": []
    },
    {
      "cell_type": "code",
      "metadata": {
        "id": "5f31fb9d"
      },
      "source": [
        "# freeze all the parameters\n",
        "for param in bert.parameters():\n",
        "    param.requires_grad = False"
      ],
      "id": "5f31fb9d",
      "execution_count": null,
      "outputs": []
    },
    {
      "cell_type": "markdown",
      "metadata": {
        "id": "755dd4c7"
      },
      "source": [
        "#### Define Model Architecture"
      ],
      "id": "755dd4c7"
    },
    {
      "cell_type": "code",
      "metadata": {
        "id": "5d8f2fd9"
      },
      "source": [
        "class BERT_Arch(nn.Module):\n",
        "\n",
        "    def __init__(self, bert):\n",
        "      \n",
        "      super(BERT_Arch, self).__init__()\n",
        "\n",
        "      self.bert = bert \n",
        "      \n",
        "      # dropout layer\n",
        "      self.dropout = nn.Dropout(0.1)\n",
        "      \n",
        "      # relu activation function\n",
        "      self.relu =  nn.ReLU()\n",
        "\n",
        "      # dense layer 1\n",
        "      self.fc1 = nn.Linear(768,512)\n",
        "      \n",
        "      # dense layer 2 (Output layer)\n",
        "      self.fc2 = nn.Linear(512,2)\n",
        "\n",
        "      #softmax activation function\n",
        "      self.softmax = nn.LogSoftmax(dim=1)\n",
        "\n",
        "    #define the forward pass\n",
        "    def forward(self, sent_id, mask):\n",
        "\n",
        "      #pass the inputs to the model  \n",
        "      _, cls_hs = self.bert(sent_id, attention_mask=mask, return_dict=False)\n",
        "\n",
        "      x = self.fc1(cls_hs)\n",
        "\n",
        "      x = self.relu(x)\n",
        "\n",
        "      x = self.dropout(x)\n",
        "\n",
        "      # output layer\n",
        "      x = self.fc2(x)\n",
        "\n",
        "      # apply softmax activation\n",
        "      x = self.softmax(x)\n",
        "\n",
        "      return x"
      ],
      "id": "5d8f2fd9",
      "execution_count": null,
      "outputs": []
    },
    {
      "cell_type": "code",
      "metadata": {
        "id": "ba635e59"
      },
      "source": [
        "# pass the pre-trained BERT to our define architecture\n",
        "model = BERT_Arch(bert)\n",
        "\n",
        "# push the model to GPU\n",
        "model = model.to(device)"
      ],
      "id": "ba635e59",
      "execution_count": null,
      "outputs": []
    },
    {
      "cell_type": "code",
      "metadata": {
        "id": "11e3b4fa"
      },
      "source": [
        "# optimizer from hugging face transformers\n",
        "from transformers import AdamW\n",
        "\n",
        "# define the optimizer\n",
        "optimizer = AdamW(model.parameters(), lr = 1e-3)"
      ],
      "id": "11e3b4fa",
      "execution_count": null,
      "outputs": []
    },
    {
      "cell_type": "markdown",
      "metadata": {
        "id": "72def635"
      },
      "source": [
        "#### Find Class Weights"
      ],
      "id": "72def635"
    },
    {
      "cell_type": "code",
      "metadata": {
        "id": "ddad31b9"
      },
      "source": [
        "from sklearn.utils.class_weight import compute_class_weight\n",
        "\n",
        "#compute the class weights\n",
        "class_wts = compute_class_weight('balanced', np.unique(train_labels), train_labels)\n",
        "\n",
        "print(class_wts)"
      ],
      "id": "ddad31b9",
      "execution_count": null,
      "outputs": []
    },
    {
      "cell_type": "code",
      "metadata": {
        "id": "824a2b0c"
      },
      "source": [
        "# convert class weights to tensor\n",
        "weights= torch.tensor(class_wts,dtype=torch.float)\n",
        "weights = weights.to(device)\n",
        "\n",
        "# loss function\n",
        "cross_entropy  = nn.NLLLoss(weight=weights) \n",
        "\n",
        "# number of training epochs\n",
        "epochs = 10"
      ],
      "id": "824a2b0c",
      "execution_count": null,
      "outputs": []
    },
    {
      "cell_type": "markdown",
      "metadata": {
        "id": "d103f5e9"
      },
      "source": [
        "#### <b> Training the model </b>"
      ],
      "id": "d103f5e9"
    },
    {
      "cell_type": "code",
      "metadata": {
        "id": "c26c5d61"
      },
      "source": [
        "# function to train the model\n",
        "def train():\n",
        "  \n",
        "    model.train()\n",
        "\n",
        "    total_loss, total_accuracy = 0, 0\n",
        "\n",
        "    # empty list to save model predictions\n",
        "    total_preds=[]\n",
        "\n",
        "    # iterate over batches\n",
        "    for step,batch in enumerate(train_dataloader):\n",
        "    \n",
        "        # progress update after every 50 batches.\n",
        "        if step % 50 == 0 and not step == 0:\n",
        "            print('  Batch {:>5,}  of  {:>5,}.'.format(step, len(train_dataloader)))\n",
        "\n",
        "        # push the batch to gpu\n",
        "        batch = [r.to(device) for r in batch]\n",
        "\n",
        "        sent_id, mask, labels = batch\n",
        "\n",
        "        # clear previously calculated gradients \n",
        "        model.zero_grad()        \n",
        "\n",
        "        # get model predictions for the current batch\n",
        "        preds = model(sent_id, mask)\n",
        "\n",
        "        # compute the loss between actual and predicted values\n",
        "        loss = cross_entropy(preds, labels)\n",
        "\n",
        "        # add on to the total loss\n",
        "        total_loss = total_loss + loss.item()\n",
        "\n",
        "        # backward pass to calculate the gradients\n",
        "        loss.backward()\n",
        "\n",
        "        # clip the the gradients to 1.0. It helps in preventing the exploding gradient problem\n",
        "        torch.nn.utils.clip_grad_norm_(model.parameters(), 1.0)\n",
        "\n",
        "        # update parameters\n",
        "        optimizer.step()\n",
        "\n",
        "        # model predictions are stored on GPU. So, push it to CPU\n",
        "        preds=preds.detach().cpu().numpy()\n",
        "\n",
        "        # append the model predictions\n",
        "        total_preds.append(preds)\n",
        "\n",
        "    # compute the training loss of the epoch\n",
        "    avg_loss = total_loss / len(train_dataloader)\n",
        "\n",
        "    # predictions are in the form of (no. of batches, size of batch, no. of classes).\n",
        "    # reshape the predictions in form of (number of samples, no. of classes)\n",
        "    total_preds  = np.concatenate(total_preds, axis=0)\n",
        "\n",
        "    #returns the loss and predictions\n",
        "    return avg_loss, total_preds"
      ],
      "id": "c26c5d61",
      "execution_count": null,
      "outputs": []
    },
    {
      "cell_type": "code",
      "metadata": {
        "id": "d883f184"
      },
      "source": [
        "# function for evaluating the model\n",
        "def evaluate():\n",
        "  \n",
        "    print(\"\\nEvaluating...\")\n",
        "\n",
        "    # deactivate dropout layers\n",
        "    model.eval()\n",
        "\n",
        "    total_loss, total_accuracy = 0, 0\n",
        "\n",
        "    # empty list to save the model predictions\n",
        "    total_preds = []\n",
        "\n",
        "    # iterate over batches\n",
        "    for step,batch in enumerate(val_dataloader):\n",
        "\n",
        "        # Progress update every 50 batches.\n",
        "        if step % 50 == 0 and not step == 0:\n",
        "\n",
        "          # Calculate elapsed time in minutes.\n",
        "        #       elapsed = format_time(time.time() - t0)\n",
        "\n",
        "          # Report progress.\n",
        "            print('  Batch {:>5,}  of  {:>5,}.'.format(step, len(val_dataloader)))\n",
        "\n",
        "        # push the batch to gpu\n",
        "        batch = [t.to(device) for t in batch]\n",
        "\n",
        "        sent_id, mask, labels = batch\n",
        "\n",
        "        # deactivate autograd\n",
        "        with torch.no_grad():\n",
        "\n",
        "            # model predictions\n",
        "            preds = model(sent_id, mask)\n",
        "\n",
        "            # compute the validation loss between actual and predicted values\n",
        "            loss = cross_entropy(preds,labels)\n",
        "\n",
        "            total_loss = total_loss + loss.item()\n",
        "\n",
        "            preds = preds.detach().cpu().numpy()\n",
        "\n",
        "            total_preds.append(preds)\n",
        "\n",
        "    # compute the validation loss of the epoch\n",
        "    avg_loss = total_loss / len(val_dataloader) \n",
        "\n",
        "    # reshape the predictions in form of (number of samples, no. of classes)\n",
        "    total_preds  = np.concatenate(total_preds, axis=0)\n",
        "\n",
        "    return avg_loss, total_preds"
      ],
      "id": "d883f184",
      "execution_count": null,
      "outputs": []
    },
    {
      "cell_type": "code",
      "metadata": {
        "id": "bee17f76"
      },
      "source": [
        "t_path = path + '/Models/BERT_saved_weights2.pt'\n",
        "\n",
        "# set initial loss to infinite\n",
        "best_valid_loss = float('inf')\n",
        "\n",
        "# empty lists to store training and validation loss of each epoch\n",
        "train_losses=[]\n",
        "valid_losses=[]\n",
        "\n",
        "#for each epoch\n",
        "for epoch in range(epochs):\n",
        "     \n",
        "    print('\\n Epoch {:} / {:}'.format(epoch + 1, epochs))\n",
        "    \n",
        "    #train model\n",
        "    train_loss, _ = train()\n",
        "    \n",
        "    #evaluate model\n",
        "    valid_loss, _ = evaluate()\n",
        "    \n",
        "    #save the best model\n",
        "    if valid_loss < best_valid_loss:\n",
        "        best_valid_loss = valid_loss\n",
        "        torch.save(model.state_dict(), t_path)\n",
        "    \n",
        "    # append training and validation loss\n",
        "    train_losses.append(train_loss)\n",
        "    valid_losses.append(valid_loss)\n",
        "    \n",
        "    print(f'\\nTraining Loss: {train_loss:.3f}')\n",
        "    print(f'Validation Loss: {valid_loss:.3f}')"
      ],
      "id": "bee17f76",
      "execution_count": null,
      "outputs": []
    },
    {
      "cell_type": "markdown",
      "metadata": {
        "id": "5ad30009"
      },
      "source": [
        "#### Load Saved Model"
      ],
      "id": "5ad30009"
    },
    {
      "cell_type": "code",
      "metadata": {
        "id": "912d8499"
      },
      "source": [
        "#load weights of best model\n",
        "path = path + '/Models/BERT_saved_weights2.pt'\n",
        "model.load_state_dict(torch.load(path))"
      ],
      "id": "912d8499",
      "execution_count": null,
      "outputs": []
    },
    {
      "cell_type": "code",
      "metadata": {
        "id": "c7a861de"
      },
      "source": [
        "len(test_seq)"
      ],
      "id": "c7a861de",
      "execution_count": null,
      "outputs": []
    },
    {
      "cell_type": "markdown",
      "metadata": {
        "id": "b5b63ad7"
      },
      "source": [
        "#### <b> Testing the model </b>"
      ],
      "id": "b5b63ad7"
    },
    {
      "cell_type": "code",
      "metadata": {
        "id": "2227ced3"
      },
      "source": [
        "# get predictions for test data\n",
        "with torch.no_grad():\n",
        "    preds = model(test_seq[:8_000].to(device), test_mask[:8_000].to(device))\n",
        "    preds = preds.detach().cpu().numpy()"
      ],
      "id": "2227ced3",
      "execution_count": null,
      "outputs": []
    },
    {
      "cell_type": "code",
      "metadata": {
        "id": "aaab55a8"
      },
      "source": [
        "# model's performance\n",
        "preds = np.argmax(preds, axis = 1)\n",
        "print(classification_report(test_y, preds))"
      ],
      "id": "aaab55a8",
      "execution_count": null,
      "outputs": []
    },
    {
      "cell_type": "code",
      "metadata": {
        "id": "5af054fb"
      },
      "source": [
        "# confusion matrix\n",
        "pd.crosstab(test_y, preds)"
      ],
      "id": "5af054fb",
      "execution_count": null,
      "outputs": []
    },
    {
      "cell_type": "code",
      "metadata": {
        "id": "1b7bd790"
      },
      "source": [
        ""
      ],
      "id": "1b7bd790",
      "execution_count": null,
      "outputs": []
    }
  ]
}