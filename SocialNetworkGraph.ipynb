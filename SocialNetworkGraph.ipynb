{
  "nbformat": 4,
  "nbformat_minor": 5,
  "metadata": {
    "kernelspec": {
      "display_name": "Python 3",
      "language": "python",
      "name": "python3"
    },
    "language_info": {
      "codemirror_mode": {
        "name": "ipython",
        "version": 3
      },
      "file_extension": ".py",
      "mimetype": "text/x-python",
      "name": "python",
      "nbconvert_exporter": "python",
      "pygments_lexer": "ipython3",
      "version": "3.7.10"
    },
    "colab": {
      "name": "SocialNetworkGraph.ipynb",
      "provenance": []
    }
  },
  "cells": [
    {
      "cell_type": "markdown",
      "metadata": {
        "id": "669a87e7-2990-4537-8a54-f7944af4ba6e"
      },
      "source": [
        "# Social Network Graph"
      ],
      "id": "669a87e7-2990-4537-8a54-f7944af4ba6e"
    },
    {
      "cell_type": "code",
      "metadata": {
        "id": "44237b38-1014-4cbb-8e2d-5ec8b19500cb",
        "outputId": "8a10fb85-dda0-4446-e873-ef563887bd9c"
      },
      "source": [
        "# Python Libs\n",
        "import re\n",
        "import csv\n",
        "import os\n",
        "import datetime\n",
        "import pandas as pd\n",
        "import numpy as np\n",
        "import time\n",
        "\n",
        "# plotting and math libs\n",
        "from tqdm import tqdm\n",
        "import matplotlib.pylab\n",
        "import matplotlib.pyplot as plt\n",
        "import seaborn as sns\n",
        "import numpy as np\n",
        "\n",
        "import json\n",
        "from collections import Counter\n",
        "from collections import defaultdict\n",
        "import datetime as datetime\n",
        "\n",
        "import fasttext\n",
        "import fasttext.util\n",
        "\n",
        "import warnings\n",
        "warnings.filterwarnings('ignore')\n",
        "%matplotlib inline\n",
        "\n",
        "import networkx as nx"
      ],
      "id": "44237b38-1014-4cbb-8e2d-5ec8b19500cb",
      "execution_count": null,
      "outputs": [
        {
          "output_type": "stream",
          "text": [
            "C:\\Users\\USER\\anaconda3\\lib\\site-packages\\gensim\\similarities\\__init__.py:15: UserWarning: The gensim.similarities.levenshtein submodule is disabled, because the optional Levenshtein package <https://pypi.org/project/python-Levenshtein/> is unavailable. Install Levenhstein (e.g. `pip install python-Levenshtein`) to suppress this warning.\n",
            "  warnings.warn(msg)\n"
          ],
          "name": "stderr"
        }
      ]
    },
    {
      "cell_type": "markdown",
      "metadata": {
        "id": "f409e02a-1549-4030-8e70-795a2a5d1080"
      },
      "source": [
        "## User to User Graph"
      ],
      "id": "f409e02a-1549-4030-8e70-795a2a5d1080"
    },
    {
      "cell_type": "markdown",
      "metadata": {
        "id": "d7c2a610-7ffa-480d-b14c-95d6ed2d8807"
      },
      "source": [
        "In this section we will create social graph that demonstrate the relationships between political users. each node represents a twitter user, each edge represents a link between 2 users if user1 has retweeted user2 and the weight is the amount of retweets of this tweet.\n",
        "Since can be many retweets from user1 of user2 we allocated the max among them.\n"
      ],
      "id": "d7c2a610-7ffa-480d-b14c-95d6ed2d8807"
    },
    {
      "cell_type": "code",
      "metadata": {
        "id": "e1cf6240-9bab-43f6-bd47-284e5973e9c0"
      },
      "source": [
        "# loading the data\n",
        "users_tweets_path_r = 'F:\\\\SocialDynamics\\\\TrendsProject\\\\Tweets\\\\Right_Users_Tweets.csv'\n",
        "users_tweets_path_l = 'F:\\\\SocialDynamics\\\\TrendsProject\\\\Tweets\\\\Left_Users_Tweets.csv'\n",
        "df_r = pd.read_csv(users_tweets_path_r)\n",
        "df_l = pd.read_csv(users_tweets_path_l)\n",
        "df = df_r.append(df_l, ignore_index=True)"
      ],
      "id": "e1cf6240-9bab-43f6-bd47-284e5973e9c0",
      "execution_count": null,
      "outputs": []
    },
    {
      "cell_type": "code",
      "metadata": {
        "id": "ba3d2fa8-e264-4433-a4c8-51ccef7892ee"
      },
      "source": [
        "df = df.fillna(\"_na_\")"
      ],
      "id": "ba3d2fa8-e264-4433-a4c8-51ccef7892ee",
      "execution_count": null,
      "outputs": []
    },
    {
      "cell_type": "code",
      "metadata": {
        "id": "917d503d-5a44-426b-8c3a-9dd0ef8b01a8"
      },
      "source": [
        "userNames = df['user_name'].unique().tolist()"
      ],
      "id": "917d503d-5a44-426b-8c3a-9dd0ef8b01a8",
      "execution_count": null,
      "outputs": []
    },
    {
      "cell_type": "code",
      "metadata": {
        "id": "15e58c1f-7a3f-425d-bb65-35c8c0bd3005",
        "outputId": "fbc6d156-c52d-406d-dfec-649a9218e6f7"
      },
      "source": [
        "len(userNames)"
      ],
      "id": "15e58c1f-7a3f-425d-bb65-35c8c0bd3005",
      "execution_count": null,
      "outputs": [
        {
          "output_type": "execute_result",
          "data": {
            "text/plain": [
              "442"
            ]
          },
          "metadata": {
            "tags": []
          },
          "execution_count": 5
        }
      ]
    },
    {
      "cell_type": "code",
      "metadata": {
        "id": "ee299d84-372a-4f56-b496-6c563d42d31a"
      },
      "source": [
        "def create_u2u_edges():\n",
        "    edges = []\n",
        "    retweet_count_dict = {}\n",
        "    for u_name in userNames:\n",
        "        temp_df = df[df['user_name'] == u_name]\n",
        "\n",
        "        # Gathering all users ids that the current user retweeted their tweets\n",
        "        reply_to_usersIDs = temp_df['reply_to_user_id'].unique().tolist()\n",
        "        reply_to_usersIDs.remove('_na_')\n",
        "        for reply_id in reply_to_usersIDs:\n",
        "\n",
        "            # Gathering the user name of the current user id that has been retweeted\n",
        "            re_df = df[df['user_id'] == reply_id]\n",
        "            re_u_list = re_df['user_name'].unique().tolist()\n",
        "\n",
        "            if len(re_u_list) > 0 and re_u_list[0] != u_name:\n",
        "                new_edge = (re_u_list[0], u_name)\n",
        "                if new_edge not in edges:\n",
        "\n",
        "                    # Gathering the tweets that has been retweeted by u_name of the user reply_id\n",
        "                    retweet_df = temp_df[temp_df['reply_to_user_id'] == reply_id]\n",
        "                    max_retweets = retweet_df['retweet_count '].max() \n",
        "\n",
        "                    edges.append(new_edge)\n",
        "                    retweet_count_dict[new_edge] = max_retweets\n",
        "    return edges, retweet_count_dict"
      ],
      "id": "ee299d84-372a-4f56-b496-6c563d42d31a",
      "execution_count": null,
      "outputs": []
    },
    {
      "cell_type": "code",
      "metadata": {
        "id": "3923f1e2-bc3c-4191-9ca5-ffe0a63d1135",
        "outputId": "a137d0da-fbbd-4eae-a496-bbd17f59548b"
      },
      "source": [
        "edges, retweet_count_dict = create_u2u_edges()\n",
        "len(edges)"
      ],
      "id": "3923f1e2-bc3c-4191-9ca5-ffe0a63d1135",
      "execution_count": null,
      "outputs": [
        {
          "output_type": "execute_result",
          "data": {
            "text/plain": [
              "23877"
            ]
          },
          "metadata": {
            "tags": []
          },
          "execution_count": 18
        }
      ]
    },
    {
      "cell_type": "code",
      "metadata": {
        "id": "7987f05f-ea83-4634-ab01-cf43442a33c9",
        "outputId": "15fdba12-25f5-4e58-97c1-77e607569b96"
      },
      "source": [
        "max(retweet_count_dict.values())"
      ],
      "id": "7987f05f-ea83-4634-ab01-cf43442a33c9",
      "execution_count": null,
      "outputs": [
        {
          "output_type": "execute_result",
          "data": {
            "text/plain": [
              "170"
            ]
          },
          "metadata": {
            "tags": []
          },
          "execution_count": 24
        }
      ]
    },
    {
      "cell_type": "markdown",
      "metadata": {
        "id": "fb5a3ec0-dabb-4e41-8a5c-9f75cd8cc806"
      },
      "source": [
        "<b> Creating nodes attributes for our graph: </b>\n",
        " \n",
        " > political stance: 0 - right wing, 1 - left wing\n",
        " \n",
        " > followers count of a user(node)\n",
        " \n",
        " > statuses count of a user(node)"
      ],
      "id": "fb5a3ec0-dabb-4e41-8a5c-9f75cd8cc806"
    },
    {
      "cell_type": "code",
      "metadata": {
        "id": "42a65a6c-ab99-44a6-bd0d-d99c9ebd133d"
      },
      "source": [
        "def get_attributes_dicts():\n",
        "    class_dict = {}\n",
        "    followers_dict = {}\n",
        "    statuses_count_dict = {}\n",
        "    for u_name in userNames:\n",
        "        u_df = df[df['user_name'] == u_name]\n",
        "        \n",
        "        political_stance = u_df['class'].unique().tolist()[0]\n",
        "        class_dict[u_name] = int(political_stance)\n",
        "        \n",
        "        followers_count = u_df['user_followers_count'].unique().tolist()[0]\n",
        "        followers_dict[u_name] = int(followers_count)\n",
        "        \n",
        "        statuses_count = u_df['user_statuses_count'].unique().tolist()[0]\n",
        "        statuses_count_dict[u_name] = int(statuses_count)\n",
        "        \n",
        "    return class_dict, followers_dict, statuses_count_dict"
      ],
      "id": "42a65a6c-ab99-44a6-bd0d-d99c9ebd133d",
      "execution_count": null,
      "outputs": []
    },
    {
      "cell_type": "code",
      "metadata": {
        "id": "3fbffc05-e35d-43d5-b2ea-ff8b9a11d7d0"
      },
      "source": [
        "class_dict, followers_dict, statuses_count_dict = get_attributes_dicts()"
      ],
      "id": "3fbffc05-e35d-43d5-b2ea-ff8b9a11d7d0",
      "execution_count": null,
      "outputs": []
    },
    {
      "cell_type": "code",
      "metadata": {
        "id": "85d25086-d7c4-4e33-a0ed-82ce4790d671",
        "outputId": "c5de5a9e-226e-4c2b-8561-07525488a164"
      },
      "source": [
        "G = nx.Graph()\n",
        "G.add_nodes_from(userNames)\n",
        "G.add_edges_from(edges)\n",
        "print(nx.info(G))"
      ],
      "id": "85d25086-d7c4-4e33-a0ed-82ce4790d671",
      "execution_count": null,
      "outputs": [
        {
          "output_type": "stream",
          "text": [
            "Name: \n",
            "Type: Graph\n",
            "Number of nodes: 442\n",
            "Number of edges: 20235\n",
            "Average degree:  91.5611\n"
          ],
          "name": "stdout"
        }
      ]
    },
    {
      "cell_type": "code",
      "metadata": {
        "id": "583cbff9-fbf2-40fd-9b32-883b7387f273"
      },
      "source": [
        "nx.set_node_attributes(G, class_dict, 'political_stance')\n",
        "nx.set_node_attributes(G, followers_dict, 'followers_count')\n",
        "nx.set_node_attributes(G, statuses_count_dict, 'statuses_count')"
      ],
      "id": "583cbff9-fbf2-40fd-9b32-883b7387f273",
      "execution_count": null,
      "outputs": []
    },
    {
      "cell_type": "code",
      "metadata": {
        "id": "742ae5d1-4256-4cd3-8402-53123eac10ff"
      },
      "source": [
        "# adding edges weights to the graph\n",
        "for edge in edges:\n",
        "    G[edge[0]][edge[1]]['weight'] = retweet_count_dict[edge]"
      ],
      "id": "742ae5d1-4256-4cd3-8402-53123eac10ff",
      "execution_count": null,
      "outputs": []
    },
    {
      "cell_type": "code",
      "metadata": {
        "id": "512f21e3-bfbb-48bf-96e1-8aa5b441bae5"
      },
      "source": [
        "# Saving the graph to present it on Gephi\n",
        "nx.write_gexf(G, \"F:\\\\SocialDynamics\\\\TrendsProject\\\\users_retweet_w8_attr3.gexf\")"
      ],
      "id": "512f21e3-bfbb-48bf-96e1-8aa5b441bae5",
      "execution_count": null,
      "outputs": []
    },
    {
      "cell_type": "code",
      "metadata": {
        "id": "e276da6a-ecb6-44eb-a5ff-1d4133160373"
      },
      "source": [
        ""
      ],
      "id": "e276da6a-ecb6-44eb-a5ff-1d4133160373",
      "execution_count": null,
      "outputs": []
    },
    {
      "cell_type": "markdown",
      "metadata": {
        "id": "bb7ee97f-9bdb-4cf2-9b88-496ec71878a5"
      },
      "source": [
        "### Trends to Users network\n",
        "In this section we will create a graph that represents the influence of users on a trends collected since 1/1/2021 till 1/07/2021.\n",
        "\n",
        "Nodes will be users and trends and edges will represents a link between trend and user if a user has tweeted a trend in its timeline.\n",
        "\n",
        "Weights of the edges will be divided into 2 section which will associated with a different graph.\n",
        "\n",
        "\n",
        "> First Graph: Weights will be calculated has the max number of retweets between a user tweet and a trend that appears in that tweet.\n",
        "\n",
        "> Second Graph: Weights will be calculated as the amount of times the user tweeted tweets with that trend."
      ],
      "id": "bb7ee97f-9bdb-4cf2-9b88-496ec71878a5"
    },
    {
      "cell_type": "markdown",
      "metadata": {
        "id": "408b1c07-fcf3-4420-bbc1-bd2c6245d4ac"
      },
      "source": [
        "Reading the trends file"
      ],
      "id": "408b1c07-fcf3-4420-bbc1-bd2c6245d4ac"
    },
    {
      "cell_type": "code",
      "metadata": {
        "id": "9b93031c-0b31-4eae-b30d-105b4be64606"
      },
      "source": [
        "trends_text = []\n",
        "with open(\"F:\\\\SocialDynamics\\\\TrendsProject\\\\trends.txt\", 'r', encoding='utf8') as f:\n",
        "    trends_text = f.read().splitlines()"
      ],
      "id": "9b93031c-0b31-4eae-b30d-105b4be64606",
      "execution_count": null,
      "outputs": []
    },
    {
      "cell_type": "code",
      "metadata": {
        "id": "1a8742e7-86bd-4254-bada-5259b3ac4556"
      },
      "source": [
        "trends = []\n",
        "for t in trends_text:\n",
        "    t = t.split('\\t')\n",
        "    if len(t) < 3:\n",
        "        trends.append(t[1])\n",
        "    else:\n",
        "        trends.append(t[2])"
      ],
      "id": "1a8742e7-86bd-4254-bada-5259b3ac4556",
      "execution_count": null,
      "outputs": []
    },
    {
      "cell_type": "code",
      "metadata": {
        "id": "4044c60e-e63a-48c0-aa6b-20bc5e3ae862"
      },
      "source": [
        "Nodes = trends.copy() + userNames.copy()"
      ],
      "id": "4044c60e-e63a-48c0-aa6b-20bc5e3ae862",
      "execution_count": null,
      "outputs": []
    },
    {
      "cell_type": "markdown",
      "metadata": {
        "id": "32fd6bf7-f976-4cc7-aca9-a0a53fd790c2"
      },
      "source": [
        "<b> Creating nodes attributes for our graph: </b>\n",
        " \n",
        " > political stance: 0 - right wing, 1 - left wing\n",
        " \n",
        " > followers count of a user(node)\n",
        " \n",
        " > statuses count of a user(node)\n",
        " \n",
        " > average tweets length of a user(node)"
      ],
      "id": "32fd6bf7-f976-4cc7-aca9-a0a53fd790c2"
    },
    {
      "cell_type": "code",
      "metadata": {
        "id": "905083c8-6a9e-43d4-bce2-5efdadeaacc0"
      },
      "source": [
        "def get_t2u_attr_dicts():\n",
        "    class_dict, followers_dict, statuses_count_dict = get_attributes_dicts()\n",
        "    \n",
        "    class_trends = {}\n",
        "    for t in trends:\n",
        "        class_trends[t] = 2\n",
        "        \n",
        "    class_nodes = class_dict.copy()\n",
        "    class_nodes.update(class_trends)\n",
        "    \n",
        "    avg_tweets_len = {}\n",
        "    for u_name in userNames:\n",
        "        u_df = df[df['user_name'] == u_name]\n",
        "        \n",
        "        avg_len = u_df['text'].apply(lambda x: len(x)).mean()\n",
        "        avg_tweets_len[u_name] = round(avg_len)\n",
        "    \n",
        "    return class_nodes, followers_dict, statuses_count_dict, avg_tweets_len"
      ],
      "id": "905083c8-6a9e-43d4-bce2-5efdadeaacc0",
      "execution_count": null,
      "outputs": []
    },
    {
      "cell_type": "code",
      "metadata": {
        "id": "cc669533-e973-45d6-8aad-f3389b1a65fa"
      },
      "source": [
        "class_nodes, followers_dict, statuses_count_dict, avg_tweets_len = get_t2u_attr_dicts()"
      ],
      "id": "cc669533-e973-45d6-8aad-f3389b1a65fa",
      "execution_count": null,
      "outputs": []
    },
    {
      "cell_type": "code",
      "metadata": {
        "id": "92538c29-38d8-48a5-8600-f70df3898b24",
        "outputId": "6d510edb-dd44-4c65-f1a9-5ce22351e039"
      },
      "source": [
        "class_nodes[trends[0]]"
      ],
      "id": "92538c29-38d8-48a5-8600-f70df3898b24",
      "execution_count": null,
      "outputs": [
        {
          "output_type": "execute_result",
          "data": {
            "text/plain": [
              "2"
            ]
          },
          "metadata": {
            "tags": []
          },
          "execution_count": 101
        }
      ]
    },
    {
      "cell_type": "code",
      "metadata": {
        "id": "a1ce3aa9-b170-4732-997e-82dfa9c4ce56"
      },
      "source": [
        "def create_t2u_edges():\n",
        "    edges = []\n",
        "    retweet_count_dict = {}\n",
        "    trend_tweets_count = {}\n",
        "    for u_name in userNames:\n",
        "        temp_df = df[df['user_name'] == u_name]\n",
        "\n",
        "        for t in trends:\n",
        "            trends_user_df = temp_df[temp_df['text'].str.contains(t)]\n",
        "            \n",
        "            if len(trends_user_df) > 0:\n",
        "                new_edge = (t, u_name)\n",
        "                if new_edge not in edges:\n",
        "                    \n",
        "                    max_retweets = trends_user_df['retweet_count '].max()\n",
        "                    if max_retweets > 45:\n",
        "                        retweet_count_dict[new_edge] = max_retweets\n",
        "\n",
        "                        trend_tweets_count[new_edge] = len(trends_user_df)\n",
        "\n",
        "                        edges.append(new_edge)\n",
        "\n",
        "    return edges, retweet_count_dict, trend_tweets_count"
      ],
      "id": "a1ce3aa9-b170-4732-997e-82dfa9c4ce56",
      "execution_count": null,
      "outputs": []
    },
    {
      "cell_type": "code",
      "metadata": {
        "id": "5d8e6d70-b07a-4f44-b912-d2ecb503e8db"
      },
      "source": [
        "edges_t2u, retweet_count_dict_t2u, trend_tweets_count = create_t2u_edges()"
      ],
      "id": "5d8e6d70-b07a-4f44-b912-d2ecb503e8db",
      "execution_count": null,
      "outputs": []
    },
    {
      "cell_type": "code",
      "metadata": {
        "id": "1e1e7335-610c-4139-8683-e1515636c0e8",
        "outputId": "fd32af04-5345-446a-d5c1-b017741f53a4"
      },
      "source": [
        "G_T2U = nx.Graph()\n",
        "G_T2U.add_nodes_from(Nodes)\n",
        "G_T2U.add_edges_from(edges_t2u)\n",
        "print(nx.info(G_T2U))"
      ],
      "id": "1e1e7335-610c-4139-8683-e1515636c0e8",
      "execution_count": null,
      "outputs": [
        {
          "output_type": "stream",
          "text": [
            "Name: \n",
            "Type: Graph\n",
            "Number of nodes: 492\n",
            "Number of edges: 1429\n",
            "Average degree:   5.8089\n"
          ],
          "name": "stdout"
        }
      ]
    },
    {
      "cell_type": "code",
      "metadata": {
        "id": "7933e902-763f-4cbe-b52e-6cefef1a130b"
      },
      "source": [
        "class_nodes, followers_dict, statuses_count_dict, avg_tweets_len\n",
        "nx.set_node_attributes(G_T2U, class_nodes, 'political_stance')\n",
        "nx.set_node_attributes(G_T2U, followers_dict, 'followers_count')\n",
        "nx.set_node_attributes(G_T2U, statuses_count_dict, 'statuses_count')\n",
        "nx.set_node_attributes(G_T2U, avg_tweets_len, 'avg_tweet_length')"
      ],
      "id": "7933e902-763f-4cbe-b52e-6cefef1a130b",
      "execution_count": null,
      "outputs": []
    },
    {
      "cell_type": "code",
      "metadata": {
        "id": "05776903-03c0-4872-b267-0f4a52725363"
      },
      "source": [
        "def update_edges_weights(g, edgs, w_dic):\n",
        "    for edge in edgs:\n",
        "        g[edge[0]][edge[1]]['weight'] = w_dic[edge]"
      ],
      "id": "05776903-03c0-4872-b267-0f4a52725363",
      "execution_count": null,
      "outputs": []
    },
    {
      "cell_type": "markdown",
      "metadata": {
        "id": "84b7e3ed-f57c-4f08-aede-85a01f7a8d6c"
      },
      "source": [
        "Saving the graphs"
      ],
      "id": "84b7e3ed-f57c-4f08-aede-85a01f7a8d6c"
    },
    {
      "cell_type": "markdown",
      "metadata": {
        "id": "2d566acd-076b-4466-a823-46c61cf5e571"
      },
      "source": [
        "Graph 1"
      ],
      "id": "2d566acd-076b-4466-a823-46c61cf5e571"
    },
    {
      "cell_type": "code",
      "metadata": {
        "id": "752afde3-980f-4858-96b7-4cd81785451f"
      },
      "source": [
        "update_edges_weights(G_T2U, edges_t2u, retweet_count_dict_t2u)"
      ],
      "id": "752afde3-980f-4858-96b7-4cd81785451f",
      "execution_count": null,
      "outputs": []
    },
    {
      "cell_type": "code",
      "metadata": {
        "id": "381a7c45-9889-4431-bf88-3feb77daade8"
      },
      "source": [
        "nx.write_gexf(G_T2U, \"F:\\\\SocialDynamics\\\\TrendsProject\\\\tredns_2_users_RetweetsWeights.gexf\")"
      ],
      "id": "381a7c45-9889-4431-bf88-3feb77daade8",
      "execution_count": null,
      "outputs": []
    },
    {
      "cell_type": "markdown",
      "metadata": {
        "id": "5955fe80-ad1a-4720-a23b-a3a2d46ba3e6"
      },
      "source": [
        "Graph 2"
      ],
      "id": "5955fe80-ad1a-4720-a23b-a3a2d46ba3e6"
    },
    {
      "cell_type": "code",
      "metadata": {
        "id": "560a2a4b-c3e9-42a4-b87b-e577773960a8"
      },
      "source": [
        "update_edges_weights(G_T2U, edges_t2u, trend_tweets_count)"
      ],
      "id": "560a2a4b-c3e9-42a4-b87b-e577773960a8",
      "execution_count": null,
      "outputs": []
    },
    {
      "cell_type": "code",
      "metadata": {
        "id": "4e3957ac-3d26-43cf-b5a9-1ccc5c47bf8f"
      },
      "source": [
        "nx.write_gexf(G_T2U, \"F:\\\\SocialDynamics\\\\TrendsProject\\\\tredns_2_users_TweetsCountWeights.gexf\")"
      ],
      "id": "4e3957ac-3d26-43cf-b5a9-1ccc5c47bf8f",
      "execution_count": null,
      "outputs": []
    },
    {
      "cell_type": "code",
      "metadata": {
        "id": "ae1cf860-8db5-4099-9ee0-ff1f65ce9911",
        "outputId": "ceca6df7-3cd6-4e7c-8fba-c00841b5d665"
      },
      "source": [
        "len(class_dict), len(followers_dict), len(avg_tweets_len), len(statuses_count_dict)"
      ],
      "id": "ae1cf860-8db5-4099-9ee0-ff1f65ce9911",
      "execution_count": null,
      "outputs": [
        {
          "output_type": "execute_result",
          "data": {
            "text/plain": [
              "(442, 442, 442, 442)"
            ]
          },
          "metadata": {
            "tags": []
          },
          "execution_count": 154
        }
      ]
    },
    {
      "cell_type": "markdown",
      "metadata": {
        "id": "030fe90f-a7ba-455a-9214-98b3f47ec2d6"
      },
      "source": [
        "### Analyzing Info"
      ],
      "id": "030fe90f-a7ba-455a-9214-98b3f47ec2d6"
    },
    {
      "cell_type": "markdown",
      "metadata": {
        "id": "e9d08964-d286-43b5-af19-ea6c110b025b"
      },
      "source": [
        "Saving the metadata into a csv file"
      ],
      "id": "e9d08964-d286-43b5-af19-ea6c110b025b"
    },
    {
      "cell_type": "code",
      "metadata": {
        "id": "1e4e94b6-3ecf-40e8-a1a0-22e46b1fbdf3"
      },
      "source": [
        "columns = ['user_name', 'followers_count', 'avg_tweet_length', 'statuses_count', 'political_stance']\n",
        "df = pd.DataFrame({'user_name': class_dict.keys(), \n",
        "                   'followers_count': followers_dict.values(), \n",
        "                   'avg_tweets_length': avg_tweets_len.values(), \n",
        "                   'statuses_count': statuses_count_dict.values(), \n",
        "                   'political_stance': class_dict.values()})"
      ],
      "id": "1e4e94b6-3ecf-40e8-a1a0-22e46b1fbdf3",
      "execution_count": null,
      "outputs": []
    },
    {
      "cell_type": "code",
      "metadata": {
        "id": "2d4e58dd-a3f6-4119-b0dc-44e94b4f06b6"
      },
      "source": [
        "df.to_csv(\"F:\\\\SocialDynamics\\\\TrendsProject\\\\Users_Tweets_Info.csv\")"
      ],
      "id": "2d4e58dd-a3f6-4119-b0dc-44e94b4f06b6",
      "execution_count": null,
      "outputs": []
    },
    {
      "cell_type": "markdown",
      "metadata": {
        "id": "851d98f4-add9-4965-9f4d-f005248bf314"
      },
      "source": [
        "Helper functions"
      ],
      "id": "851d98f4-add9-4965-9f4d-f005248bf314"
    },
    {
      "cell_type": "code",
      "metadata": {
        "id": "13b5899c-deb6-4e81-91dd-6e5604649acc"
      },
      "source": [
        "def create_and_sort_by_col(df: pd.DataFrame, col: str):\n",
        "    \"\"\"\n",
        "    Sorting values in an ascending order\n",
        "    \"\"\"\n",
        "    df_0 = df[df['political_stance'] == 0]\n",
        "    df_1 = df[df['political_stance'] == 1]\n",
        "    \n",
        "    df_0 = df_0.sort_values(by=col, ascending=False)\n",
        "    df_1 = df_1.sort_values(by=col, ascending=False)\n",
        "    \n",
        "    return df_0, df_1\n",
        "\n",
        "def plot_info(df_0: pd.DataFrame, df_1: pd.DataFrame, col: str, title: str, ylabel: str):\n",
        "    fig, ax = plt.subplots(figsize=(20,20))\n",
        "    \n",
        "    ax.plot([i for i in range(len(df_0))], df_0[col].tolist(), 'g', label=\"Right Wing\")\n",
        "    ax.plot([i for i in range(len(df_1))], df_1[col].tolist(), 'r', label=\"Left Wing\")\n",
        "    \n",
        "    ax.set_xlabel('User Index', fontsize=20)\n",
        "    ax.set_ylabel(ylabel, fontsize=20)\n",
        "    \n",
        "    ax.legend(fontsize=30)\n",
        "    ax.set_title(title, fontsize=30)\n",
        "    plt.savefig(f'F:\\\\SocialDynamics\\\\TrendsProject\\\\{title}.png')"
      ],
      "id": "13b5899c-deb6-4e81-91dd-6e5604649acc",
      "execution_count": null,
      "outputs": []
    },
    {
      "cell_type": "code",
      "metadata": {
        "id": "abf04d3f-b7ac-4b91-9308-6ee7e1430532",
        "outputId": "1b9a9faf-c5b2-4ff1-cd2f-2468010abfc4"
      },
      "source": [
        "df_0, df_1 = create_and_sort_by_col(df, 'avg_tweets_length')\n",
        "plot_info(df_0, df_1, 'avg_tweets_length', \"Average Tweets Length\", \"Average Length\")"
      ],
      "id": "abf04d3f-b7ac-4b91-9308-6ee7e1430532",
      "execution_count": null,
      "outputs": [
        {
          "output_type": "display_data",
          "data": {
            "image/png": "[encoded data removed]",
            "text/plain": [
              "<Figure size 1440x1440 with 1 Axes>"
            ]
          },
          "metadata": {
            "tags": [],
            "needs_background": "light"
          }
        }
      ]
    },
    {
      "cell_type": "code",
      "metadata": {
        "id": "fa0ce9a5-e1b6-41e1-bba0-f117b130a596",
        "outputId": "59c2874a-1082-4ff3-e356-3fe8e5723695"
      },
      "source": [
        "df_0, df_1 = create_and_sort_by_col(df, 'statuses_count')\n",
        "plot_info(df_0, df_1, 'statuses_count', \"Statuses Count\", \"Status Count\")"
      ],
      "id": "fa0ce9a5-e1b6-41e1-bba0-f117b130a596",
      "execution_count": null,
      "outputs": [
        {
          "output_type": "display_data",
          "data": {
            "image/png": "[encoded data removed]",
            "text/plain": [
              "<Figure size 1440x1440 with 1 Axes>"
            ]
          },
          "metadata": {
            "tags": [],
            "needs_background": "light"
          }
        }
      ]
    },
    {
      "cell_type": "code",
      "metadata": {
        "id": "d4c40f41-8b32-4203-b614-721c093a43f9",
        "outputId": "2e42c690-74ad-47af-92ef-c3990da67d45"
      },
      "source": [
        "df_0, df_1 = create_and_sort_by_col(df, 'followers_count')\n",
        "plot_info(df_0, df_1, 'followers_count', \"Followers Count\", \"Follower Count\")"
      ],
      "id": "d4c40f41-8b32-4203-b614-721c093a43f9",
      "execution_count": null,
      "outputs": [
        {
          "output_type": "display_data",
          "data": {
            "image/png": "[encoded data removed]",
            "text/plain": [
              "<Figure size 1440x1440 with 1 Axes>"
            ]
          },
          "metadata": {
            "tags": [],
            "needs_background": "light"
          }
        }
      ]
    },
    {
      "cell_type": "markdown",
      "metadata": {
        "id": "1a430b60-4da7-40b6-9e64-cc400d1df985"
      },
      "source": [
        "<b> Analyzing the political stance of each trend by retweet counts  </b>"
      ],
      "id": "1a430b60-4da7-40b6-9e64-cc400d1df985"
    },
    {
      "cell_type": "code",
      "metadata": {
        "id": "c32c131b-7edd-45ef-abaa-4e8cda40b424"
      },
      "source": [
        "influencers_dict = {}\n",
        "for t in trends:\n",
        "    influencers_dict[t] = {'0': 0, '1': 0}\n",
        "    \n",
        "for t in trends:\n",
        "    for key in retweet_count_dict_t2u.keys():\n",
        "        if t in key[0]:\n",
        "            if class_nodes[key[1]] == 0:\n",
        "                influencers_dict[t]['0'] += retweet_count_dict_t2u[key]\n",
        "            else:\n",
        "                influencers_dict[t]['1'] += retweet_count_dict_t2u[key]"
      ],
      "id": "c32c131b-7edd-45ef-abaa-4e8cda40b424",
      "execution_count": null,
      "outputs": []
    },
    {
      "cell_type": "code",
      "metadata": {
        "id": "4df9c37a-5d26-45fc-8232-0ea9da348578"
      },
      "source": [
        "right_inf_dict = [x['0'] for x in influencers_dict.values()]\n",
        "left_inf_dict = [x['1'] for x in influencers_dict.values()]"
      ],
      "id": "4df9c37a-5d26-45fc-8232-0ea9da348578",
      "execution_count": null,
      "outputs": []
    },
    {
      "cell_type": "code",
      "metadata": {
        "id": "153a7dae-d00d-49b2-bdb0-8621eee9f45d"
      },
      "source": [
        "inf_df = pd.DataFrame({'Trends': trends, 'Right': right_inf_dict, 'Left': left_inf_dict})"
      ],
      "id": "153a7dae-d00d-49b2-bdb0-8621eee9f45d",
      "execution_count": null,
      "outputs": []
    },
    {
      "cell_type": "code",
      "metadata": {
        "id": "8103de8b-b73f-4ef4-8369-c0d5c72b828e",
        "outputId": "a82b6ae2-3510-4065-8e2b-09ac3a1510e2"
      },
      "source": [
        "inf_df"
      ],
      "id": "8103de8b-b73f-4ef4-8369-c0d5c72b828e",
      "execution_count": null,
      "outputs": [
        {
          "output_type": "execute_result",
          "data": {
            "text/html": [
              "<div>\n",
              "<style scoped>\n",
              "    .dataframe tbody tr th:only-of-type {\n",
              "        vertical-align: middle;\n",
              "    }\n",
              "\n",
              "    .dataframe tbody tr th {\n",
              "        vertical-align: top;\n",
              "    }\n",
              "\n",
              "    .dataframe thead th {\n",
              "        text-align: right;\n",
              "    }\n",
              "</style>\n",
              "<table border=\"1\" class=\"dataframe\">\n",
              "  <thead>\n",
              "    <tr style=\"text-align: right;\">\n",
              "      <th></th>\n",
              "      <th>Trends</th>\n",
              "      <th>Right</th>\n",
              "      <th>Left</th>\n",
              "    </tr>\n",
              "  </thead>\n",
              "  <tbody>\n",
              "    <tr>\n",
              "      <th>0</th>\n",
              "      <td>שאשא פאקה</td>\n",
              "      <td>0</td>\n",
              "      <td>0</td>\n",
              "    </tr>\n",
              "    <tr>\n",
              "      <th>1</th>\n",
              "      <td>חוק צרפתי</td>\n",
              "      <td>0</td>\n",
              "      <td>482</td>\n",
              "    </tr>\n",
              "    <tr>\n",
              "      <th>2</th>\n",
              "      <td>של שרה</td>\n",
              "      <td>698</td>\n",
              "      <td>884</td>\n",
              "    </tr>\n",
              "    <tr>\n",
              "      <th>3</th>\n",
              "      <td>עם שרה</td>\n",
              "      <td>0</td>\n",
              "      <td>0</td>\n",
              "    </tr>\n",
              "    <tr>\n",
              "      <th>4</th>\n",
              "      <td>רק ביבי</td>\n",
              "      <td>898</td>\n",
              "      <td>1029</td>\n",
              "    </tr>\n",
              "    <tr>\n",
              "      <th>5</th>\n",
              "      <td>חוזרים_לחיים</td>\n",
              "      <td>0</td>\n",
              "      <td>0</td>\n",
              "    </tr>\n",
              "    <tr>\n",
              "      <th>6</th>\n",
              "      <td>כחול לבן</td>\n",
              "      <td>2264</td>\n",
              "      <td>1935</td>\n",
              "    </tr>\n",
              "    <tr>\n",
              "      <th>7</th>\n",
              "      <td>רק נתניהו</td>\n",
              "      <td>127</td>\n",
              "      <td>99</td>\n",
              "    </tr>\n",
              "    <tr>\n",
              "      <th>8</th>\n",
              "      <td>רק מחל</td>\n",
              "      <td>1410</td>\n",
              "      <td>0</td>\n",
              "    </tr>\n",
              "    <tr>\n",
              "      <th>9</th>\n",
              "      <td>בן גביר</td>\n",
              "      <td>6258</td>\n",
              "      <td>12861</td>\n",
              "    </tr>\n",
              "    <tr>\n",
              "      <th>10</th>\n",
              "      <td>יאיר לפיד</td>\n",
              "      <td>23210</td>\n",
              "      <td>4648</td>\n",
              "    </tr>\n",
              "    <tr>\n",
              "      <th>11</th>\n",
              "      <td>ביבי_ברח</td>\n",
              "      <td>0</td>\n",
              "      <td>0</td>\n",
              "    </tr>\n",
              "    <tr>\n",
              "      <th>12</th>\n",
              "      <td>תחת לפיד</td>\n",
              "      <td>1025</td>\n",
              "      <td>488</td>\n",
              "    </tr>\n",
              "    <tr>\n",
              "      <th>13</th>\n",
              "      <td>העם אמר</td>\n",
              "      <td>0</td>\n",
              "      <td>1140</td>\n",
              "    </tr>\n",
              "    <tr>\n",
              "      <th>14</th>\n",
              "      <td>תם עידן</td>\n",
              "      <td>1068</td>\n",
              "      <td>569</td>\n",
              "    </tr>\n",
              "    <tr>\n",
              "      <th>15</th>\n",
              "      <td>שר משפטים</td>\n",
              "      <td>4108</td>\n",
              "      <td>3553</td>\n",
              "    </tr>\n",
              "    <tr>\n",
              "      <th>16</th>\n",
              "      <td>נבצרות עכשיו</td>\n",
              "      <td>0</td>\n",
              "      <td>181</td>\n",
              "    </tr>\n",
              "    <tr>\n",
              "      <th>17</th>\n",
              "      <td>בחירות חמישיות</td>\n",
              "      <td>1224</td>\n",
              "      <td>459</td>\n",
              "    </tr>\n",
              "    <tr>\n",
              "      <th>18</th>\n",
              "      <td>יאיר גולן</td>\n",
              "      <td>3295</td>\n",
              "      <td>2600</td>\n",
              "    </tr>\n",
              "    <tr>\n",
              "      <th>19</th>\n",
              "      <td>עד מדינה</td>\n",
              "      <td>1369</td>\n",
              "      <td>384</td>\n",
              "    </tr>\n",
              "    <tr>\n",
              "      <th>20</th>\n",
              "      <td>יוסי כהן</td>\n",
              "      <td>13748</td>\n",
              "      <td>3279</td>\n",
              "    </tr>\n",
              "    <tr>\n",
              "      <th>21</th>\n",
              "      <td>של הפרקליטות</td>\n",
              "      <td>3733</td>\n",
              "      <td>335</td>\n",
              "    </tr>\n",
              "    <tr>\n",
              "      <th>22</th>\n",
              "      <td>מנסור עבאס</td>\n",
              "      <td>19880</td>\n",
              "      <td>7828</td>\n",
              "    </tr>\n",
              "    <tr>\n",
              "      <th>23</th>\n",
              "      <td>רע\"מ</td>\n",
              "      <td>10629</td>\n",
              "      <td>4377</td>\n",
              "    </tr>\n",
              "    <tr>\n",
              "      <th>24</th>\n",
              "      <td>עוד בחירות</td>\n",
              "      <td>50</td>\n",
              "      <td>0</td>\n",
              "    </tr>\n",
              "    <tr>\n",
              "      <th>25</th>\n",
              "      <td>חאן אל</td>\n",
              "      <td>1312</td>\n",
              "      <td>434</td>\n",
              "    </tr>\n",
              "    <tr>\n",
              "      <th>26</th>\n",
              "      <td>תם עידן הציונות</td>\n",
              "      <td>148</td>\n",
              "      <td>152</td>\n",
              "    </tr>\n",
              "    <tr>\n",
              "      <th>27</th>\n",
              "      <td>של שיקלי</td>\n",
              "      <td>1003</td>\n",
              "      <td>208</td>\n",
              "    </tr>\n",
              "    <tr>\n",
              "      <th>28</th>\n",
              "      <td>עמיחי שיקלי</td>\n",
              "      <td>6153</td>\n",
              "      <td>4962</td>\n",
              "    </tr>\n",
              "    <tr>\n",
              "      <th>29</th>\n",
              "      <td>צבע אדום</td>\n",
              "      <td>108</td>\n",
              "      <td>0</td>\n",
              "    </tr>\n",
              "    <tr>\n",
              "      <th>30</th>\n",
              "      <td>יום ירושלים שמח</td>\n",
              "      <td>0</td>\n",
              "      <td>0</td>\n",
              "    </tr>\n",
              "    <tr>\n",
              "      <th>31</th>\n",
              "      <td>מורשת נתניהו</td>\n",
              "      <td>0</td>\n",
              "      <td>1328</td>\n",
              "    </tr>\n",
              "    <tr>\n",
              "      <th>32</th>\n",
              "      <td>בגלל בלה חדיד</td>\n",
              "      <td>0</td>\n",
              "      <td>0</td>\n",
              "    </tr>\n",
              "    <tr>\n",
              "      <th>33</th>\n",
              "      <td>מירב מיכאלי</td>\n",
              "      <td>4915</td>\n",
              "      <td>541</td>\n",
              "    </tr>\n",
              "    <tr>\n",
              "      <th>34</th>\n",
              "      <td>של סלקום</td>\n",
              "      <td>587</td>\n",
              "      <td>270</td>\n",
              "    </tr>\n",
              "    <tr>\n",
              "      <th>35</th>\n",
              "      <td>אבי גבאי</td>\n",
              "      <td>295</td>\n",
              "      <td>65</td>\n",
              "    </tr>\n",
              "    <tr>\n",
              "      <th>36</th>\n",
              "      <td>מרים פרץ</td>\n",
              "      <td>2133</td>\n",
              "      <td>1292</td>\n",
              "    </tr>\n",
              "    <tr>\n",
              "      <th>37</th>\n",
              "      <td>מר ביטחון</td>\n",
              "      <td>0</td>\n",
              "      <td>1068</td>\n",
              "    </tr>\n",
              "    <tr>\n",
              "      <th>38</th>\n",
              "      <td>חוק יסוד</td>\n",
              "      <td>18157</td>\n",
              "      <td>2354</td>\n",
              "    </tr>\n",
              "    <tr>\n",
              "      <th>39</th>\n",
              "      <td>עלה בידי</td>\n",
              "      <td>719</td>\n",
              "      <td>26245</td>\n",
              "    </tr>\n",
              "    <tr>\n",
              "      <th>40</th>\n",
              "      <td>עלה בידו</td>\n",
              "      <td>414</td>\n",
              "      <td>807</td>\n",
              "    </tr>\n",
              "    <tr>\n",
              "      <th>41</th>\n",
              "      <td>תודה בני</td>\n",
              "      <td>0</td>\n",
              "      <td>0</td>\n",
              "    </tr>\n",
              "    <tr>\n",
              "      <th>42</th>\n",
              "      <td>ילדה קטנה</td>\n",
              "      <td>1868</td>\n",
              "      <td>5547</td>\n",
              "    </tr>\n",
              "    <tr>\n",
              "      <th>43</th>\n",
              "      <td>למה_גדעון_התפטר_ב2014</td>\n",
              "      <td>883</td>\n",
              "      <td>0</td>\n",
              "    </tr>\n",
              "    <tr>\n",
              "      <th>44</th>\n",
              "      <td>למה גדעון סהר</td>\n",
              "      <td>0</td>\n",
              "      <td>0</td>\n",
              "    </tr>\n",
              "    <tr>\n",
              "      <th>45</th>\n",
              "      <td>למה סהר</td>\n",
              "      <td>0</td>\n",
              "      <td>0</td>\n",
              "    </tr>\n",
              "    <tr>\n",
              "      <th>46</th>\n",
              "      <td>של תא כפפות</td>\n",
              "      <td>0</td>\n",
              "      <td>0</td>\n",
              "    </tr>\n",
              "    <tr>\n",
              "      <th>47</th>\n",
              "      <td>נוכל שקרן</td>\n",
              "      <td>0</td>\n",
              "      <td>70</td>\n",
              "    </tr>\n",
              "    <tr>\n",
              "      <th>48</th>\n",
              "      <td>נאור יחיא</td>\n",
              "      <td>2173</td>\n",
              "      <td>5618</td>\n",
              "    </tr>\n",
              "    <tr>\n",
              "      <th>49</th>\n",
              "      <td>נתניהו מאוחדת</td>\n",
              "      <td>0</td>\n",
              "      <td>0</td>\n",
              "    </tr>\n",
              "  </tbody>\n",
              "</table>\n",
              "</div>"
            ],
            "text/plain": [
              "                   Trends  Right   Left\n",
              "0              שאשא פאקה       0      0\n",
              "1               חוק צרפתי      0    482\n",
              "2                  של שרה    698    884\n",
              "3                  עם שרה      0      0\n",
              "4                 רק ביבי    898   1029\n",
              "5            חוזרים_לחיים      0      0\n",
              "6               כחול לבן    2264   1935\n",
              "7              רק נתניהו     127     99\n",
              "8                  רק מחל   1410      0\n",
              "9                בן גביר    6258  12861\n",
              "10              יאיר לפיד  23210   4648\n",
              "11               ביבי_ברח      0      0\n",
              "12               תחת לפיד   1025    488\n",
              "13                העם אמר      0   1140\n",
              "14               תם עידן    1068    569\n",
              "15              שר משפטים   4108   3553\n",
              "16           נבצרות עכשיו      0    181\n",
              "17         בחירות חמישיות   1224    459\n",
              "18              יאיר גולן   3295   2600\n",
              "19               עד מדינה   1369    384\n",
              "20               יוסי כהן  13748   3279\n",
              "21           של הפרקליטות   3733    335\n",
              "22             מנסור עבאס  19880   7828\n",
              "23                   רע\"מ  10629   4377\n",
              "24            עוד בחירות      50      0\n",
              "25                 חאן אל   1312    434\n",
              "26        תם עידן הציונות    148    152\n",
              "27              של שיקלי    1003    208\n",
              "28            עמיחי שיקלי   6153   4962\n",
              "29               צבע אדום    108      0\n",
              "30        יום ירושלים שמח      0      0\n",
              "31           מורשת נתניהו      0   1328\n",
              "32          בגלל בלה חדיד      0      0\n",
              "33            מירב מיכאלי   4915    541\n",
              "34               של סלקום    587    270\n",
              "35               אבי גבאי    295     65\n",
              "36               מרים פרץ   2133   1292\n",
              "37              מר ביטחון      0   1068\n",
              "38               חוק יסוד  18157   2354\n",
              "39               עלה בידי    719  26245\n",
              "40               עלה בידו    414    807\n",
              "41               תודה בני      0      0\n",
              "42              ילדה קטנה   1868   5547\n",
              "43  למה_גדעון_התפטר_ב2014    883      0\n",
              "44          למה גדעון סהר      0      0\n",
              "45                למה סהר      0      0\n",
              "46            של תא כפפות      0      0\n",
              "47              נוכל שקרן      0     70\n",
              "48              נאור יחיא   2173   5618\n",
              "49          נתניהו מאוחדת      0      0"
            ]
          },
          "metadata": {
            "tags": []
          },
          "execution_count": 240
        }
      ]
    },
    {
      "cell_type": "code",
      "metadata": {
        "id": "424be643-f9cf-4c1d-8da0-a80fd2da762d",
        "outputId": "10b15489-7a83-41e4-d09b-109b6c6ea962"
      },
      "source": [
        "from bidi import algorithm as bidialg\n",
        "h_trends = [bidialg.get_display(x) for x in trends]\n",
        "plt.figure(figsize=(15, 12))\n",
        "plt.title(\"Most Trends Influencers\")\n",
        "plt.barh(h_trends, right_inf_dict, .8, label='Right Wing', color='navy')\n",
        "plt.barh(h_trends, left_inf_dict, .8, label='Left Wing', color='red')\n",
        "plt.legend(loc='best')\n",
        "plt.subplots_adjust(left=.25)\n",
        "plt.subplots_adjust(top=.95)\n",
        "plt.subplots_adjust(bottom=.05)"
      ],
      "id": "424be643-f9cf-4c1d-8da0-a80fd2da762d",
      "execution_count": null,
      "outputs": [
        {
          "output_type": "display_data",
          "data": {
            "image/png": "[encoded data removed]",
            "text/plain": [
              "<Figure size 1080x864 with 1 Axes>"
            ]
          },
          "metadata": {
            "tags": [],
            "needs_background": "light"
          }
        }
      ]
    },
    {
      "cell_type": "code",
      "metadata": {
        "id": "b7234fbd-f63b-47b4-8ad0-5ffea54f28b8"
      },
      "source": [
        ""
      ],
      "id": "b7234fbd-f63b-47b4-8ad0-5ffea54f28b8",
      "execution_count": null,
      "outputs": []
    },
    {
      "cell_type": "code",
      "metadata": {
        "id": "52189fc7-b5ed-4ae3-a1a9-1c334b610cc6"
      },
      "source": [
        ""
      ],
      "id": "52189fc7-b5ed-4ae3-a1a9-1c334b610cc6",
      "execution_count": null,
      "outputs": []
    },
    {
      "cell_type": "code",
      "metadata": {
        "id": "6e94007f-f8d0-4525-862f-1a3de649d7ec"
      },
      "source": [
        ""
      ],
      "id": "6e94007f-f8d0-4525-862f-1a3de649d7ec",
      "execution_count": null,
      "outputs": []
    },
    {
      "cell_type": "code",
      "metadata": {
        "id": "65cb893b-781a-48c4-9714-6135a376bc54"
      },
      "source": [
        ""
      ],
      "id": "65cb893b-781a-48c4-9714-6135a376bc54",
      "execution_count": null,
      "outputs": []
    }
  ]
}